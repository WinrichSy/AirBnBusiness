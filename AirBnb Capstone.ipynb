{
 "cells": [
  {
   "cell_type": "code",
   "execution_count": 18,
   "metadata": {},
   "outputs": [],
   "source": [
    "#Run1\n",
    "%matplotlib inline\n",
    "\n",
    "import os\n",
    "import numpy as np\n",
    "import pandas as pd\n",
    "import scipy.stats as stats\n",
    "import matplotlib.pyplot as plt\n",
    "import matplotlib.ticker as mtick\n",
    "from datetime import datetime\n",
    "from dateutil.parser import parse\n",
    "# from googletrans import Translator\n",
    "\n",
    "plt.style.use('ggplot')\n",
    "\n",
    "import itertools\n",
    "import warnings\n",
    "warnings.filterwarnings('ignore')\n",
    "\n",
    "#models\n",
    "from sklearn.linear_model import LogisticRegression, LinearRegression\n",
    "from sklearn.ensemble import RandomForestClassifier, GradientBoostingClassifier\n",
    "from sklearn.preprocessing import PolynomialFeatures\n",
    "from sklearn.neighbors import KNeighborsRegressor\n",
    "from sklearn.pipeline import Pipeline\n",
    "from sklearn.model_selection import train_test_split, KFold\n",
    "from sklearn.tree import DecisionTreeClassifier\n",
    "from sklearn.feature_extraction.text import CountVectorizer, TfidfVectorizer\n",
    "from sklearn.metrics import precision_score, recall_score, accuracy_score, roc_auc_score"
   ]
  },
  {
   "cell_type": "code",
   "execution_count": null,
   "metadata": {},
   "outputs": [],
   "source": [
    "# from nltk.corpus import stopwords\n",
    "# from nltk.tokenize import word_tokenize, sent_tokenize\n",
    "# from nltk.stem.porter import PorterStemmer\n",
    "# from nltk.stem.snowball import SnowballStemmer\n",
    "# from nltk.stem.wordnet import WordNetLemmatizer\n",
    "# from nltk import pos_tag"
   ]
  },
  {
   "cell_type": "code",
   "execution_count": 21,
   "metadata": {},
   "outputs": [],
   "source": [
    "#Run2\n",
    "#Creates a text label above each bar in *rects*, displaying its height.\n",
    "def autolabel(rects, orientation='vert'):\n",
    "    #prints value above vertical bars\n",
    "    if orientation=='vert':\n",
    "        for rect in rects:\n",
    "            height = rect.get_height()\n",
    "            ax.annotate('{}'.format(int(height)),\n",
    "                        xy=(rect.get_x() + rect.get_width() / 2, height),\n",
    "                        xytext=(0, 3),  # 3 points vertical offset\n",
    "                        weight = 'bold',\n",
    "                        textcoords=\"offset points\",\n",
    "                        ha='center', va='bottom',\n",
    "                        size=15)\n",
    "    #Prints value to the right of horizontal bars\n",
    "    elif orientation=='hort':\n",
    "        for rect in rects:\n",
    "            width = rect.get_width()\n",
    "            ax.annotate('{}'.format(int(width)),\n",
    "                        xy=(width, rect.get_y() + rect.get_height() / 2),\n",
    "                        xytext=(3,-6),\n",
    "                        textcoords=\"offset points\",\n",
    "                        size=15)"
   ]
  },
  {
   "cell_type": "code",
   "execution_count": 22,
   "metadata": {},
   "outputs": [],
   "source": [
    "#Run3\n",
    "#Creates a text label above each bar in *rects*, displaying its height.\n",
    "def autolabel_percent(rects, orientation='vert'):\n",
    "    #Prints percentage above bars for vertical bars\n",
    "    if orientation=='vert':\n",
    "        for rect in rects:\n",
    "            height = rect.get_height()\n",
    "            ax.annotate('{0:.2f}%'.format(height),\n",
    "                        xy=(rect.get_x() + rect.get_width() / 2, height),\n",
    "                        xytext=(0, 3),  # 3 points vertical offset\n",
    "                        weight = 'bold',\n",
    "                        textcoords=\"offset points\",\n",
    "                        ha='center', va='bottom',\n",
    "                        size=15)\n",
    "    #Prints percentages to the right of bars in horizontal bars\n",
    "    elif orientation=='hort':\n",
    "        for rect in rects:\n",
    "            width = rect.get_width()\n",
    "            ax.annotate(\"{0:.2f}%\".format(width),\n",
    "                        xy=(width, rect.get_y() + rect.get_height() / 2),\n",
    "                        xytext=(3,-6),\n",
    "                        textcoords=\"offset points\",\n",
    "                        size=15)"
   ]
  },
  {
   "cell_type": "code",
   "execution_count": 31,
   "metadata": {},
   "outputs": [],
   "source": [
    "#Run5\n",
    "#Print functions for bar graphs specifically\n",
    "def print_bar(x, y, x_label, y_label, title='insert title', orientation='vert', color='blue', \n",
    "              width=0.65, fig_size=(23,7), percentage=False, weight='bold', tick_size=20, title_size=30):\n",
    "    \n",
    "    fig, ax = plt.subplots(figsize=fig_size)\n",
    "    if orientation=='vert':\n",
    "        bars_for_annotation = ax.bar(x, y, color=color, align='center', width=width)\n",
    "    elif orientation=='hort':\n",
    "        bars_for_annotation = ax.barh(x, y, color=color, align='center')\n",
    "        \n",
    "    plt.xticks(size = 13, rotation=90)\n",
    "    plt.yticks(size = 15)\n",
    "    plt.xlabel(x_label, size=tick_size, color=color)\n",
    "    plt.ylabel(y_label, size=tick_size, color=color)\n",
    "    plt.title(title, fontsize=title_size, color=color)\n",
    "        \n",
    "    if percentage:\n",
    "        autolabel_percent(bars_for_annotation, orientation)\n",
    "    elif not percentage:\n",
    "        autolabel(bars_for_annotation, orientation)\n",
    "    \n",
    "    plt.show()"
   ]
  },
  {
   "cell_type": "code",
   "execution_count": null,
   "metadata": {},
   "outputs": [],
   "source": [
    "# #TODO: preprocessing the data (uncomment later)\n",
    "# #Run6\n",
    "# useless_listing_columns = ['square_feet','country','listing_url','scrape_id','last_scraped','experiences_offered', 'license', \n",
    "#                    'xl_picture_url','host_url','host_name','host_thumbnail_url','street','host_listings_count',\n",
    "#                    'neighbourhood_group_cleansed','state','market', 'calendar_last_scraped','host_picture_url',\n",
    "#                    'host_acceptance_rate', 'minimum_minimum_nights', 'maximum_minimum_nights', 'minimum_maximum_nights',\n",
    "#                    'maximum_maximum_nights', 'jurisdiction_names', 'calculated_host_listings_count', 'calculated_host_listings_count_entire_homes',\n",
    "#                    'calculated_host_listings_count_private_rooms', 'calculated_host_listings_count_shared_rooms','maximum_nights_avg_ntm',\n",
    "#                    'has_availability','country_code','host_acceptance_rate','thumbnail_url','medium_url','weekly_price','monthly_price',\n",
    "#                    'calendar_updated','is_business_travel_ready', 'interaction', 'interaction', 'house_rules']\n",
    "\n",
    "# def preprocessing(path):\n",
    "#     #load the LISTINGS csv\n",
    "#     processed_listings_df = pd.read_csv(path+'listings.csv')\n",
    "#     #drop useless columns\n",
    "#     processed_listings_df.drop(columns = useless_listing_columns, inplace=True)\n",
    "    \n",
    "#     #load the CALENDAR csv\n",
    "#     processed_calendar_df = pd.read_csv(path+'calendar.csv')\n",
    "#     #Convert date strings to datetime type\n",
    "#     date_time = pd.Series([datetime.strptime(x, '%Y-%m-%d') for x in processed_calendar_df['date']])\n",
    "#     processed_calendar_df['date'] = date_time\n",
    "    \n",
    "#     #load the REVIEWS csv\n",
    "#     processed_reviews_df = pd.read_csv(path+'reviews.csv')\n",
    "#     #Drop useless columns. Id of review and the reviewer's name\n",
    "#     processed_reviews_df.drop(columns=['id', 'reviewer_name'], inplace=True)\n",
    "\n",
    "#     return processed_listings_df, processed_calendar_df, processed_reviews_df"
   ]
  },
  {
   "cell_type": "code",
   "execution_count": 5,
   "metadata": {},
   "outputs": [],
   "source": [
    "# #save new csv\n",
    "# singapore = 'Data/Singapore/'\n",
    "# london = 'Data/London/'\n",
    "# paris = 'Data/Paris/'\n",
    "\n",
    "# # paris_data_shortened.to_csv (paris+'shortened_listings.csv', index = None, header=True)"
   ]
  },
  {
   "cell_type": "markdown",
   "metadata": {},
   "source": [
    "## Dictionary for ISO-639 to Names"
   ]
  },
  {
   "cell_type": "code",
   "execution_count": 175,
   "metadata": {},
   "outputs": [],
   "source": [
    "#https://pypi.org/project/iso-639/\n",
    "from iso639 import languages\n",
    "\n",
    "#Create dictionary on types of languages available\n",
    "keys = ['af', 'am', 'an', 'ar', 'as', 'az', 'be', 'bg', 'bn', 'br', 'bs',\n",
    "        'ca', 'cs', 'cy', 'da', 'de', 'dz', 'el', 'en', 'eo', 'es', 'et', \n",
    "        'eu', 'fa', 'fi', 'fr', 'ga', 'gl', 'gu', 'he', 'hi', 'hr', 'ht',\n",
    "        'hu', 'hy', 'id', 'is', 'it', 'ja', 'jv', 'ka', 'kk', 'km', 'kn', \n",
    "        'ko', 'ku', 'ky', 'la', 'lb', 'lo', 'lt', 'lv', 'mg', 'mk', 'ml', \n",
    "        'mn', 'mr', 'ms', 'mt', 'nb', 'ne', 'nl', 'nn', 'no', 'oc', 'or', \n",
    "        'pa', 'pl', 'ps', 'pt', 'qu', 'ro', 'ru', 'rw', 'se', 'si', 'sk', \n",
    "        'sl', 'so', 'sq', 'sv', 'sw', 'ta', 'te', 'th', 'tl', 'tr', 'ug', \n",
    "        'uk', 'ur', 'vi', 'vo', 'wa', 'xh', 'zh', 'zu']\n",
    "\n",
    "#convert iso-639 to iso language name\n",
    "iso_name = [languages.get(alpha2=x).name for x in keys]\n",
    "\n",
    "language_dict = {}\n",
    "for idx, val in enumerate(keys):\n",
    "    language_dict[val] = iso_name[idx]\n",
    "    \n",
    "language_dict['nonsense'] = 'nonsense'"
   ]
  },
  {
   "cell_type": "markdown",
   "metadata": {},
   "source": [
    "## REVIEWS: CLEANING (PARIS)"
   ]
  },
  {
   "cell_type": "code",
   "execution_count": 185,
   "metadata": {},
   "outputs": [],
   "source": [
    "#https://pypi.org/project/langua/\n",
    "from langua import Predict\n",
    "p = Predict()"
   ]
  },
  {
   "cell_type": "code",
   "execution_count": 186,
   "metadata": {},
   "outputs": [],
   "source": [
    "#REVIEWS (PT1)\n",
    "#Load up Reviews (Paris)\n",
    "paris_reviews = pd.read_csv(paris + 'reviews.csv')\n",
    "\n",
    "#Drop useless columns. Id of review and the reviewer's name\n",
    "paris_reviews.drop(columns=['id', 'reviewer_name'], inplace=True)"
   ]
  },
  {
   "cell_type": "code",
   "execution_count": 187,
   "metadata": {
    "collapsed": true,
    "jupyter": {
     "outputs_hidden": true
    }
   },
   "outputs": [],
   "source": [
    "#REVIEWS (PT2)\n",
    "#detect language of reviewers\n",
    "#https://pypi.org/project/langdetect/\n",
    "import langdetect as ld\n",
    "#remove the rows with blank comments or not enough info\n",
    "paris_reviews = paris_reviews.loc[paris_reviews['comments'].notna()]\n",
    "# paris_reviews = paris_reviews.loc[paris_reviews['comments'].str.len()>20]\n",
    "\n",
    "review_language = []\n",
    "\n",
    "for idx, val in enumerate(paris_reviews['comments']):\n",
    "    try:\n",
    "        review_language.append(ld.detect(val))\n",
    "    except:\n",
    "        review_language.append('nonsense')\n",
    "\n",
    "# review_language = pd.Series([ld.detect(x[:50]) for x in paris_reviews['comments']])\n",
    "review_language = ['zh' if x=='zh-cn' or x=='zh-tw' else x for x in review_language]\n",
    "paris_reviews['language_code'] = review_language\n",
    "#DO NOT RUN"
   ]
  },
  {
   "cell_type": "code",
   "execution_count": 188,
   "metadata": {},
   "outputs": [],
   "source": [
    "reviews_full_language = [language_dict[x] for x in review_language]\n",
    "paris_reviews['language'] = reviews_full_language"
   ]
  },
  {
   "cell_type": "code",
   "execution_count": 189,
   "metadata": {},
   "outputs": [],
   "source": [
    "#REVIEWS (PT3)\n",
    "#Convert date strings to datetime type ###TODO check and update\n",
    "date_time = pd.Series([datetime.strptime(x, '%Y-%m-%d') for x in paris_reviews['date']])\n",
    "paris_reviews['date'] = date_time"
   ]
  },
  {
   "cell_type": "code",
   "execution_count": 190,
   "metadata": {},
   "outputs": [],
   "source": [
    "#Remove all commas in comments\n",
    "reviews_no_commas = [x.replace(',','') for x in paris_reviews['comments']]\n",
    "paris_reviews['comments'] = reviews_no_commas"
   ]
  },
  {
   "cell_type": "code",
   "execution_count": 299,
   "metadata": {},
   "outputs": [],
   "source": [
    "#Remove date in paris_reviews\n",
    "paris_reviews.drop(columns=['date'], inplace=True)"
   ]
  },
  {
   "cell_type": "code",
   "execution_count": 301,
   "metadata": {},
   "outputs": [],
   "source": [
    "#REVIEWS (PT4)\n",
    "paris_reviews.to_csv('Data/Paris/updated_reviews.csv')"
   ]
  },
  {
   "cell_type": "code",
   "execution_count": null,
   "metadata": {},
   "outputs": [],
   "source": [
    "#REVIEWS ARE CLEANED. NO NEED FOR MORE PREPROCESSING"
   ]
  },
  {
   "cell_type": "markdown",
   "metadata": {},
   "source": [
    "## LISTINGS: CLEANING (PARIS)"
   ]
  },
  {
   "cell_type": "code",
   "execution_count": 309,
   "metadata": {},
   "outputs": [
    {
     "name": "stderr",
     "output_type": "stream",
     "text": [
      "/Users/winrichsy/anaconda3/lib/python3.7/site-packages/IPython/core/interactiveshell.py:3057: DtypeWarning: Columns (43) have mixed types. Specify dtype option on import or set low_memory=False.\n",
      "  interactivity=interactivity, compiler=compiler, result=result)\n"
     ]
    }
   ],
   "source": [
    "#Load up listings\n",
    "paris_listings = pd.read_csv('Data/Paris/listings.csv')"
   ]
  },
  {
   "cell_type": "code",
   "execution_count": 310,
   "metadata": {},
   "outputs": [],
   "source": [
    "#drop useless columns (Paris)\n",
    "useless_columns = ['square_feet','country','listing_url','scrape_id','last_scraped','experiences_offered', 'license', \n",
    "                   'xl_picture_url','host_url','host_name','host_thumbnail_url','street','host_listings_count',\n",
    "                   'neighbourhood_group_cleansed','state','market', 'calendar_last_scraped','host_picture_url',\n",
    "                   'host_acceptance_rate', 'minimum_minimum_nights', 'maximum_minimum_nights', 'minimum_maximum_nights',\n",
    "                   'maximum_maximum_nights', 'jurisdiction_names', 'calculated_host_listings_count', 'calculated_host_listings_count_entire_homes',\n",
    "                   'calculated_host_listings_count_private_rooms', 'calculated_host_listings_count_shared_rooms','maximum_nights_avg_ntm',\n",
    "                   'has_availability','country_code','host_acceptance_rate','thumbnail_url','medium_url','weekly_price','monthly_price',\n",
    "                   'calendar_updated','is_business_travel_ready', 'interaction', 'interaction', 'house_rules', 'experiences_offered']\n",
    "paris_listings_shortened = paris_listings.drop(columns = useless_columns)"
   ]
  },
  {
   "cell_type": "code",
   "execution_count": 311,
   "metadata": {
    "scrolled": true
   },
   "outputs": [],
   "source": [
    "#detect language of hosts\n",
    "#1. Get only the description that are not empty\n",
    "#2. Get descriptions that are more than 20, overstepping random symbols\n",
    "paris_listings_shortened = paris_listings_shortened.loc[paris_listings_shortened['description'].notna()]\n",
    "paris_listings_shortened = paris_listings_shortened.loc[paris_listings_shortened['description'].str.len()>20]\n",
    "\n",
    "listing_language = [p.get_lang(x) for x in paris_listings_shortened['description']]\n",
    "listing_language = ['zh' if x=='zh-cn' or x=='zh-tw' else x for x in listing_language]\n",
    "\n",
    "paris_listings_shortened['language_code'] = listing_language\n",
    "#DO NOT RUN AGAIN UNTIL THE END: TAKES FOREVER"
   ]
  },
  {
   "cell_type": "code",
   "execution_count": 334,
   "metadata": {},
   "outputs": [],
   "source": [
    "listing_full_language = [language_dict[x] for x in listing_language]\n",
    "paris_listings_shortened['language'] = listing_full_language"
   ]
  },
  {
   "cell_type": "code",
   "execution_count": 321,
   "metadata": {},
   "outputs": [],
   "source": [
    "needed_columns = ['id', 'name', 'summary', 'space', 'description', 'host_id', 'host_since', 'host_about',\n",
    "                  'host_response_time', 'host_response_rate', 'host_is_superhost', 'host_total_listings_count',\n",
    "                  'host_verifications', 'host_has_profile_pic', 'host_identity_verified', 'latitude', 'longitude',\n",
    "                  'property_type', 'accommodates', 'bathrooms', 'bedrooms', 'beds', 'amenities', 'price',\n",
    "                  'security_deposit', 'cleaning_fee', 'minimum_nights', 'number_of_reviews', 'review_scores_rating',\n",
    "                  'review_scores_accuracy', 'review_scores_cleanliness', 'review_scores_checkin', 'review_scores_communication',\n",
    "                  'review_scores_location', 'review_scores_value', 'cancellation_policy', 'requires_license', 'reviews_per_month',\n",
    "                  'require_guest_phone_verification', 'language']\n",
    "updated_listings = paris_listings_shortened.loc[:,needed_columns]\n",
    "\n"
   ]
  },
  {
   "cell_type": "code",
   "execution_count": 197,
   "metadata": {},
   "outputs": [],
   "source": [
    "#reading past updated csv file\n",
    "updated_listings = pd.read_csv('Data/Paris/updated_listings.csv')"
   ]
  },
  {
   "cell_type": "code",
   "execution_count": 208,
   "metadata": {},
   "outputs": [],
   "source": [
    "#go through and replace all the nans\n",
    "no_nans_summary = ['nan' if isinstance(x,float) else x for x in updated_listings['summary']]\n",
    "updated_listings['summary'] = no_nans_summary\n",
    "\n",
    "no_nans_space = ['nan' if isinstance(x,float) else x for x in updated_listings['space']]\n",
    "updated_listings['space'] = no_nans_space\n",
    "\n",
    "no_nans_description = ['nan' if isinstance(x,float) else x for x in updated_listings['description']]\n",
    "updated_listings['description'] = no_nans_description\n",
    "\n",
    "no_nans_host_about = ['nan' if isinstance(x,float) else x for x in updated_listings['host_about']]\n",
    "updated_listings['host_about'] = no_nans_host_about"
   ]
  },
  {
   "cell_type": "code",
   "execution_count": 289,
   "metadata": {
    "scrolled": true
   },
   "outputs": [],
   "source": [
    "def remove_commas(x):\n",
    "    return x.replace(',','')"
   ]
  },
  {
   "cell_type": "code",
   "execution_count": 223,
   "metadata": {},
   "outputs": [],
   "source": [
    "#Remove all commas for easier spark separator\n",
    "#name, summary, space, description, host_about\n",
    "#Todo: something about cancellation_policy\n",
    "check_string = ','\n",
    "\n",
    "summary_no_commas = [remove_commas(x) for x in updated_listings['summary']]\n",
    "updated_listings['summary'] = summary_no_commas\n",
    "\n",
    "space_no_commas = [remove_commas(x) for x in updated_listings['space']]\n",
    "updated_listings['space'] = space_no_commas\n",
    "\n",
    "description_no_commas = [remove_commas(x) for x in updated_listings['description']]\n",
    "updated_listings['description'] = description_no_commas\n",
    "\n",
    "host_about_no_commas = [remove_commas(x) for x in updated_listings['host_about']]\n",
    "updated_listings['host_about'] = host_about_no_commas\n",
    "\n",
    "notes_no_commas = [remove_commas(x) for x in updated_listings['notes']]\n",
    "updated_listings['notes'] = notes_no_commas\n",
    "\n",
    "transit_no_commas = [remove_commas(x) for x in updated_listings['transit']]\n",
    "updated_listings['transit'] = transit_no_commas\n",
    "\n",
    "access_no_commas = [remove_commas(x) for x in updated_listings['access']]\n",
    "updated_listings['access'] = access_no_commas"
   ]
  },
  {
   "cell_type": "code",
   "execution_count": 231,
   "metadata": {},
   "outputs": [],
   "source": [
    "#save newly updated csv\n",
    "updated_listings.to_csv('Data/Paris/updated_listings.csv')"
   ]
  },
  {
   "cell_type": "markdown",
   "metadata": {},
   "source": [
    "## CALENDAR: CLEANING (PARIS)"
   ]
  },
  {
   "cell_type": "code",
   "execution_count": 344,
   "metadata": {},
   "outputs": [],
   "source": [
    "#Load up Calendar (Paris)\n",
    "paris_calendar = pd.read_csv(paris + 'calendar.csv')\n",
    "\n",
    "#Convert date strings to datetime type\n",
    "date_time = pd.Series([datetime.strptime(x, '%Y-%m-%d') for x in paris_calendar['date']])\n",
    "paris_calendar['date'] = date_time\n",
    "#DO NOT TOUCH"
   ]
  },
  {
   "cell_type": "code",
   "execution_count": 393,
   "metadata": {
    "scrolled": true
   },
   "outputs": [],
   "source": [
    "test_calendar = paris_calendar[(paris_calendar['price'].notnull())]\n",
    "test_calendar.drop(columns=['Unnamed: 0', 'Unnamed: 0.1', 'adjusted_price'], inplace=True)"
   ]
  },
  {
   "cell_type": "code",
   "execution_count": 398,
   "metadata": {},
   "outputs": [],
   "source": [
    "pricing = [x.replace('$','') for x in test_calendar['price']] \n",
    "pricing = [float(x.replace(',','')) for x in pricing]\n",
    "test_calendar['price'] = pricing"
   ]
  },
  {
   "cell_type": "code",
   "execution_count": 400,
   "metadata": {},
   "outputs": [],
   "source": [
    "week = [x.week for x in test_calendar['date']]\n",
    "month = [x.month for x in test_calendar['date']]\n",
    "year = [x.year for x in test_calendar['date']]"
   ]
  },
  {
   "cell_type": "code",
   "execution_count": 401,
   "metadata": {},
   "outputs": [],
   "source": [
    "test_calendar['week'] = week\n",
    "test_calendar['month'] = month\n",
    "test_calendar['year'] = year"
   ]
  },
  {
   "cell_type": "code",
   "execution_count": null,
   "metadata": {},
   "outputs": [],
   "source": [
    "#Save to csv (this one has more info)\n",
    "test_calendar.to_csv('Data/Paris/the_calendar_to_use.csv')"
   ]
  },
  {
   "cell_type": "code",
   "execution_count": 353,
   "metadata": {},
   "outputs": [],
   "source": [
    "#Save to csv (has date in timestamp)\n",
    "paris_calendar.to_csv('Data/Paris/calendar.csv')"
   ]
  },
  {
   "cell_type": "markdown",
   "metadata": {},
   "source": [
    "## NPL"
   ]
  },
  {
   "cell_type": "code",
   "execution_count": 233,
   "metadata": {},
   "outputs": [],
   "source": [
    "#NPL pt2: Filter Tokens\n",
    "import string\n",
    "stopwords_ = set(stopwords.words('english'))\n",
    "punctuation_ = set(string.punctuation)\n",
    "\n",
    "def filter_tokens(sent):\n",
    "    return([w for w in sent if not w in stopwords_ and not w in punctuation_])"
   ]
  },
  {
   "cell_type": "code",
   "execution_count": 234,
   "metadata": {},
   "outputs": [],
   "source": [
    "#NPL pt1: Remove Accents\n",
    "import unicodedata\n",
    "\n",
    "def remove_accents(input_str):\n",
    "    nfkd_form = unicodedata.normalize('NFKD', input_str)\n",
    "    only_ascii = nfkd_form.encode('ASCII', 'ignore')\n",
    "    return only_ascii.decode()"
   ]
  },
  {
   "cell_type": "code",
   "execution_count": 307,
   "metadata": {},
   "outputs": [],
   "source": [
    "def personal_tokenize(sentence, language='english', stemmer='snowball'):\n",
    "    string = \" \"\n",
    "        \n",
    "    if stemmer=='snowball':\n",
    "        stemmer_snowball = SnowballStemmer(language)\n",
    "    \n",
    "    #remove accents\n",
    "    input_string = remove_accents(val)\n",
    "\n",
    "    #tokenize\n",
    "    sent_tokens = sent_tokenize(input_string)\n",
    "    tokens = [sent for sent in map(word_tokenize, sent_tokens)]\n",
    "    tokens_lower = [[word.lower() for word in sent] for sent in tokens]\n",
    "\n",
    "    #filtering stopwords and punctuations\n",
    "    tokens_filtered = list(map(filter_tokens, tokens_lower))\n",
    "    tokens_filtered_list = list(itertools.chain.from_iterable(tokens_filtered))\n",
    "\n",
    "    #stemming words\n",
    "    tokens_stemporter = [list(map(stemmer_snowball.stem, sent)) for sent in tokens_filtered]\n",
    "    return string.join(list(itertools.chain.from_iterable(tokens_stemporter)))\n",
    "        \n"
   ]
  },
  {
   "cell_type": "markdown",
   "metadata": {},
   "source": [
    "## NLP on only English [LISTINGS]"
   ]
  },
  {
   "cell_type": "code",
   "execution_count": 259,
   "metadata": {},
   "outputs": [],
   "source": [
    "english_listings = updated_listings[updated_listings['language']=='English']"
   ]
  },
  {
   "cell_type": "code",
   "execution_count": 260,
   "metadata": {},
   "outputs": [],
   "source": [
    "stemmer_snowball = SnowballStemmer('english')"
   ]
  },
  {
   "cell_type": "code",
   "execution_count": 261,
   "metadata": {},
   "outputs": [],
   "source": [
    "#Tokenize summary\n",
    "tokenized_summary = []\n",
    "for idx, val in enumerate(english_listings['summary']):\n",
    "    tokenized_summary.append(personal_tokenize(val))\n",
    "\n",
    "english_listings['summary'] = tokenized_summary\n",
    "\n",
    "#Tokenize space\n",
    "tokenized_space = []\n",
    "for idx, val in enumerate(english_listings['space']):\n",
    "    tokenized_space.append(personal_tokenize(val))\n",
    "    \n",
    "english_listings['space'] = tokenized_space\n",
    "\n",
    "#Tokenize description\n",
    "tokenized_description = []\n",
    "for idx, val in enumerate(english_listings['description']):\n",
    "    tokenized_description.append(personal_tokenize(val))\n",
    "    \n",
    "english_listings['description'] = tokenized_description\n",
    "\n",
    "#Tokenize host about\n",
    "tokenized_host_about = []\n",
    "for idx, val in enumerate(english_listings['host_about']):\n",
    "    tokenized_host_about.append(personal_tokenize(val))\n",
    "    \n",
    "english_listings['host_about'] = tokenized_host_about"
   ]
  },
  {
   "cell_type": "code",
   "execution_count": 296,
   "metadata": {},
   "outputs": [],
   "source": [
    "# #Tokenizing Notes\n",
    "# tokenized_notes = []\n",
    "# for idx, val in enumerate(english_listings['notes']):\n",
    "#     tokenized_notes.append(personal_tokenize(val))\n",
    "    \n",
    "# english_listings['notes'] = tokenized_notes\n",
    "\n",
    "# #Tokenizing Transit\n",
    "# tokenized_transit = []\n",
    "# for idx, val in enumerate(english_listings['transit']):\n",
    "#     tokenized_transit.append(personal_tokenize(val))\n",
    "    \n",
    "# english_listings['transit'] = tokenized_transit\n",
    "\n",
    "# # Tokenizing Access\n",
    "# tokenized_access = []\n",
    "# for idx, val in enumerate(english_listings['access']):\n",
    "#     tokenized_access.append(personal_tokenize(val))\n",
    "    \n",
    "# english_listings['access'] = tokenized_access"
   ]
  },
  {
   "cell_type": "code",
   "execution_count": 265,
   "metadata": {},
   "outputs": [],
   "source": [
    "#Save into new english only csv\n",
    "english_listings.to_csv('Data/Paris/english_listings.csv')"
   ]
  },
  {
   "cell_type": "code",
   "execution_count": 267,
   "metadata": {},
   "outputs": [],
   "source": [
    "#host verificaitons and ameneties. need to fix"
   ]
  },
  {
   "cell_type": "markdown",
   "metadata": {},
   "source": [
    "## NLP on only English [REVIEWS]"
   ]
  },
  {
   "cell_type": "code",
   "execution_count": 302,
   "metadata": {},
   "outputs": [],
   "source": [
    "updated_reviews = pd.read_csv('Data/Paris/updated_reviews.csv')"
   ]
  },
  {
   "cell_type": "code",
   "execution_count": 303,
   "metadata": {},
   "outputs": [],
   "source": [
    "english_reviews = updated_reviews[updated_reviews['language']=='English']"
   ]
  },
  {
   "cell_type": "code",
   "execution_count": 304,
   "metadata": {},
   "outputs": [],
   "source": [
    "english_reviews.drop(columns = ['Unnamed: 0', 'language_code'], inplace=True)"
   ]
  },
  {
   "cell_type": "code",
   "execution_count": 305,
   "metadata": {},
   "outputs": [],
   "source": [
    "#Tokenize English reviews\n",
    "tokenized_comments = []\n",
    "for idx, val in enumerate(english_reviews['comments']):\n",
    "    tokenized_comments.append(personal_tokenize(val))\n",
    "\n",
    "english_reviews['comments'] = tokenized_comments"
   ]
  },
  {
   "cell_type": "code",
   "execution_count": 306,
   "metadata": {},
   "outputs": [],
   "source": [
    "#Save into new english only csv\n",
    "english_reviews.to_csv('Data/Paris/english_reviews.csv')"
   ]
  },
  {
   "cell_type": "markdown",
   "metadata": {},
   "source": [
    "## Sparkbook for SQL Queries"
   ]
  },
  {
   "cell_type": "code",
   "execution_count": null,
   "metadata": {},
   "outputs": [],
   "source": [
    "#Run1\n",
    "#Run docker container\n",
    "sudo docker run -d --name sparkbook -p 8881:8888 -v \"$PWD\":/home/jovyan/work jupyter/pyspark-notebook start.sh jupyter lab --LabApp.token=''\n",
    "\n",
    "#Exec docker container\n",
    "docker exec -it sparkbook bash\n",
    "\n",
    "#Run Spark\n",
    "#go on browser\n",
    "localhost:8881"
   ]
  },
  {
   "cell_type": "code",
   "execution_count": 1,
   "metadata": {},
   "outputs": [
    {
     "data": {
      "text/html": [
       "\n",
       "        <div>\n",
       "            <p><b>SparkContext</b></p>\n",
       "\n",
       "            <p><a href=\"http://611babbbbd5a:4040\">Spark UI</a></p>\n",
       "\n",
       "            <dl>\n",
       "              <dt>Version</dt>\n",
       "                <dd><code>v2.4.4</code></dd>\n",
       "              <dt>Master</dt>\n",
       "                <dd><code>local[4]</code></dd>\n",
       "              <dt>AppName</dt>\n",
       "                <dd><code>ParisAirBnb</code></dd>\n",
       "            </dl>\n",
       "        </div>\n",
       "        "
      ],
      "text/plain": [
       "<SparkContext master=local[4] appName=ParisAirBnb>"
      ]
     },
     "execution_count": 1,
     "metadata": {},
     "output_type": "execute_result"
    }
   ],
   "source": [
    "#Run2\n",
    "import pyspark as ps\n",
    "\n",
    "spark = (ps.sql.SparkSession\n",
    "         .builder\n",
    "         .master('local[4]')\n",
    "         .appName('ParisAirBnb')\n",
    "         .getOrCreate()\n",
    "        )\n",
    "\n",
    "sc = spark.sparkContext\n",
    "sc"
   ]
  },
  {
   "cell_type": "code",
   "execution_count": 5,
   "metadata": {},
   "outputs": [],
   "source": [
    "# #Run3\n",
    "# paris = 'Data/Paris/'\n",
    "# paris_listings = spark.read.csv(paris +'updated_listings.csv',\n",
    "#                            header = True,\n",
    "#                            sep = \"|\",\n",
    "#                            inferSchema = True)\n",
    "\n",
    "# paris_calendar = spark.read.csv(paris+'the_calendar_to_use.csv',\n",
    "#                             header = True,\n",
    "#                             sep = \"|\",\n",
    "#                             inferSchema = True)\n",
    "\n",
    "# paris_reviews = spark.read.csv(paris+'updated_reviews.csv',\n",
    "#                                      header = True,\n",
    "#                                      sep = \"|\",\n",
    "#                                      inferSchema = True)\n",
    "\n",
    "# #==========================="
   ]
  },
  {
   "cell_type": "code",
   "execution_count": 21,
   "metadata": {
    "collapsed": true,
    "jupyter": {
     "outputs_hidden": true
    }
   },
   "outputs": [
    {
     "name": "stdout",
     "output_type": "stream",
     "text": [
      "root\n",
      " |-- _c0: string (nullable = true)\n",
      " |-- id: string (nullable = true)\n",
      " |-- name: string (nullable = true)\n",
      " |-- summary: string (nullable = true)\n",
      " |-- space: string (nullable = true)\n",
      " |-- description: string (nullable = true)\n",
      " |-- host_id: string (nullable = true)\n",
      " |-- host_since: string (nullable = true)\n",
      " |-- host_about: string (nullable = true)\n",
      " |-- host_response_time: string (nullable = true)\n",
      " |-- host_response_rate: string (nullable = true)\n",
      " |-- host_is_superhost: string (nullable = true)\n",
      " |-- host_total_listings_count: string (nullable = true)\n",
      " |-- host_verifications: string (nullable = true)\n",
      " |-- host_has_profile_pic: string (nullable = true)\n",
      " |-- host_identity_verified: string (nullable = true)\n",
      " |-- latitude: string (nullable = true)\n",
      " |-- longitude: string (nullable = true)\n",
      " |-- property_type: string (nullable = true)\n",
      " |-- accommodates: string (nullable = true)\n",
      " |-- bathrooms: string (nullable = true)\n",
      " |-- bedrooms: string (nullable = true)\n",
      " |-- beds: string (nullable = true)\n",
      " |-- amenities: string (nullable = true)\n",
      " |-- price: string (nullable = true)\n",
      " |-- security_deposit: string (nullable = true)\n",
      " |-- cleaning_fee: string (nullable = true)\n",
      " |-- minimum_nights: string (nullable = true)\n",
      " |-- number_of_reviews: string (nullable = true)\n",
      " |-- review_scores_rating: string (nullable = true)\n",
      " |-- review_scores_accuracy: string (nullable = true)\n",
      " |-- review_scores_cleanliness: string (nullable = true)\n",
      " |-- review_scores_checkin: string (nullable = true)\n",
      " |-- review_scores_communication: string (nullable = true)\n",
      " |-- review_scores_location: string (nullable = true)\n",
      " |-- review_scores_value: string (nullable = true)\n",
      " |-- cancellation_policy: string (nullable = true)\n",
      " |-- requires_license: string (nullable = true)\n",
      " |-- reviews_per_month: string (nullable = true)\n",
      " |-- require_guest_phone_verification: string (nullable = true)\n",
      " |-- language: string (nullable = true)\n",
      "\n"
     ]
    }
   ],
   "source": [
    "paris_listings.printSchema()"
   ]
  },
  {
   "cell_type": "code",
   "execution_count": 5,
   "metadata": {
    "collapsed": true,
    "jupyter": {
     "outputs_hidden": true
    }
   },
   "outputs": [
    {
     "name": "stdout",
     "output_type": "stream",
     "text": [
      "root\n",
      " |-- _c0: integer (nullable = true)\n",
      " |-- listing_id: integer (nullable = true)\n",
      " |-- date: timestamp (nullable = true)\n",
      " |-- available: string (nullable = true)\n",
      " |-- price: string (nullable = true)\n",
      " |-- adjusted_price: string (nullable = true)\n",
      " |-- minimum_nights: double (nullable = true)\n",
      " |-- maximum_nights: double (nullable = true)\n",
      "\n"
     ]
    }
   ],
   "source": [
    "paris_calendar.printSchema()"
   ]
  },
  {
   "cell_type": "code",
   "execution_count": 6,
   "metadata": {
    "collapsed": true,
    "jupyter": {
     "outputs_hidden": true
    }
   },
   "outputs": [
    {
     "name": "stdout",
     "output_type": "stream",
     "text": [
      "root\n",
      " |-- _c0: string (nullable = true)\n",
      " |-- listing_id: string (nullable = true)\n",
      " |-- date: string (nullable = true)\n",
      " |-- reviewer_id: string (nullable = true)\n",
      " |-- comments: string (nullable = true)\n",
      " |-- language_code: string (nullable = true)\n",
      " |-- language: string (nullable = true)\n",
      "\n"
     ]
    }
   ],
   "source": [
    "paris_reviews.printSchema()"
   ]
  },
  {
   "cell_type": "code",
   "execution_count": 154,
   "metadata": {},
   "outputs": [],
   "source": [
    "# from googletrans import Translator\n",
    "# translator = Translator()"
   ]
  },
  {
   "cell_type": "code",
   "execution_count": 169,
   "metadata": {},
   "outputs": [],
   "source": [
    "# def translate_text(text, dest_language=\"en\"):\n",
    "#         # Used to translate using the googletrans library\n",
    "#         import json\n",
    "#         translator = Translator()\n",
    "#         try:\n",
    "#             translation = translator.translate(text=text, dest=dest_language)\n",
    "#         except json.decoder.JSONDecodeError:\n",
    "#             # api call restriction\n",
    "#             process = subprocess.Popen([\"/Applications/Surfshark.app\", \"d\"], stdout=subprocess.PIPE)\n",
    "#             process.wait()\n",
    "#             process = subprocess.Popen([\"/Applications/Surfshark.app\", \"c\", \"canada\"], stdout=subprocess.PIPE)\n",
    "#             process.wait()\n",
    "#             return Process_Data.translate_text(text=text, dest_language=dest_language)\n",
    "#         return translation\n",
    "\n",
    "# import subprocess\n",
    "# summary = paris_listings_df[['summary', 'language']]\n",
    "# # english_text = [translator.translate(x['summary']).text if x['language']=='English' else x['summary'] for x in summary]\n",
    "# english_text = []\n",
    "# for i, j in summary.iterrows():\n",
    "# #     translator = Translator()\n",
    "# #     print('translating j', j)\n",
    "#     if isinstance(j['summary'], float):\n",
    "#         english_text.append('nonsense')\n",
    "#     elif j['language']!='English':\n",
    "#         english_text.append(translate_text(j['summary']))\n",
    "#     else:\n",
    "#         english_text.append(j['summary'])"
   ]
  },
  {
   "cell_type": "markdown",
   "metadata": {},
   "source": [
    "##### Random"
   ]
  },
  {
   "cell_type": "code",
   "execution_count": null,
   "metadata": {},
   "outputs": [],
   "source": [
    "# paris_listings.createOrReplaceTempView('paris_listings')\n",
    "# paris_calendar.createOrReplaceTempView('paris_calendar')\n",
    "# paris_reviews.createOrReplaceTempView('paris_reviews')"
   ]
  },
  {
   "cell_type": "markdown",
   "metadata": {},
   "source": [
    "# EDA and Modeling"
   ]
  },
  {
   "cell_type": "markdown",
   "metadata": {},
   "source": [
    "## CALENDAR"
   ]
  },
  {
   "cell_type": "code",
   "execution_count": 3,
   "metadata": {},
   "outputs": [],
   "source": [
    "paris_calendar = spark.read.csv('Data/Paris/the_calendar_to_use.csv',\n",
    "                            header = True,\n",
    "                            sep = \",\",\n",
    "                            inferSchema = True)\n",
    "\n",
    "paris_calendar.createOrReplaceTempView('paris_calendar')"
   ]
  },
  {
   "cell_type": "code",
   "execution_count": 90,
   "metadata": {
    "collapsed": true,
    "jupyter": {
     "outputs_hidden": true,
     "source_hidden": true
    }
   },
   "outputs": [
    {
     "name": "stdout",
     "output_type": "stream",
     "text": [
      "+---+----------+-------------------+---------+-----+--------------+--------------+----+-----+----+\n",
      "|_c0|listing_id|               date|available|price|minimum_nights|maximum_nights|week|month|year|\n",
      "+---+----------+-------------------+---------+-----+--------------+--------------+----+-----+----+\n",
      "|  0|     70586|2019-11-08 00:00:00|        f|139.0|           3.0|         365.0|  45|   11|2019|\n",
      "|  1|      3109|2019-11-09 00:00:00|        f| 60.0|           2.0|          30.0|  45|   11|2019|\n",
      "|  2|      3109|2019-11-10 00:00:00|        f| 60.0|           2.0|          30.0|  45|   11|2019|\n",
      "|  3|      3109|2019-11-11 00:00:00|        f| 60.0|           2.0|          30.0|  46|   11|2019|\n",
      "|  4|      3109|2019-11-12 00:00:00|        f| 60.0|           2.0|          30.0|  46|   11|2019|\n",
      "|  5|      3109|2019-11-13 00:00:00|        f| 60.0|           2.0|          30.0|  46|   11|2019|\n",
      "|  6|      3109|2019-11-14 00:00:00|        f| 60.0|           2.0|          30.0|  46|   11|2019|\n",
      "|  7|      3109|2019-11-15 00:00:00|        f| 60.0|           2.0|          30.0|  46|   11|2019|\n",
      "|  8|      3109|2019-11-16 00:00:00|        f| 60.0|           2.0|          30.0|  46|   11|2019|\n",
      "|  9|      3109|2019-11-17 00:00:00|        f| 60.0|           2.0|          30.0|  46|   11|2019|\n",
      "| 10|      3109|2019-11-18 00:00:00|        f| 60.0|           2.0|          30.0|  47|   11|2019|\n",
      "| 11|      3109|2019-11-19 00:00:00|        f| 60.0|           2.0|          30.0|  47|   11|2019|\n",
      "| 12|      3109|2019-11-20 00:00:00|        f| 60.0|           2.0|          30.0|  47|   11|2019|\n",
      "| 13|      3109|2019-11-21 00:00:00|        f| 60.0|           2.0|          30.0|  47|   11|2019|\n",
      "| 14|      3109|2019-11-22 00:00:00|        f| 60.0|           2.0|          30.0|  47|   11|2019|\n",
      "| 15|      3109|2019-11-23 00:00:00|        f| 60.0|           2.0|          30.0|  47|   11|2019|\n",
      "| 16|      3109|2019-11-24 00:00:00|        f| 60.0|           2.0|          30.0|  47|   11|2019|\n",
      "| 17|      3109|2019-11-25 00:00:00|        f| 60.0|           2.0|          30.0|  48|   11|2019|\n",
      "| 18|      3109|2019-11-26 00:00:00|        f| 60.0|           2.0|          30.0|  48|   11|2019|\n",
      "| 19|      3109|2019-11-27 00:00:00|        f| 60.0|           2.0|          30.0|  48|   11|2019|\n",
      "+---+----------+-------------------+---------+-----+--------------+--------------+----+-----+----+\n",
      "only showing top 20 rows\n",
      "\n"
     ]
    }
   ],
   "source": [
    "paris_calendar.show()"
   ]
  },
  {
   "cell_type": "markdown",
   "metadata": {},
   "source": [
    "### 1. Cal - Avg Weekly Rate (SKIP)"
   ]
  },
  {
   "cell_type": "code",
   "execution_count": 10,
   "metadata": {
    "jupyter": {
     "source_hidden": true
    }
   },
   "outputs": [],
   "source": [
    "query = '''SELECT DISTINCT week,month,year,listing_id, SUM(price)/7 as week_avg_price\n",
    "            FROM paris_calendar\n",
    "            GROUP BY year,month,week,listing_id\n",
    "            ORDER BY week_avg_price DESC\n",
    "            LIMIT 10'''\n",
    "\n",
    "week_pricing = spark.sql(query)"
   ]
  },
  {
   "cell_type": "code",
   "execution_count": 11,
   "metadata": {
    "collapsed": true,
    "jupyter": {
     "outputs_hidden": true,
     "source_hidden": true
    }
   },
   "outputs": [
    {
     "name": "stdout",
     "output_type": "stream",
     "text": [
      "+----+-----+----+----------+--------------+\n",
      "|week|month|year|listing_id|week_avg_price|\n",
      "+----+-----+----+----------+--------------+\n",
      "|  20|    5|2020|  37267985|      100000.0|\n",
      "|  42|   10|2020|  37267985|      100000.0|\n",
      "|  32|    8|2020|  37267985|      100000.0|\n",
      "|  30|    7|2020|  37267985|      100000.0|\n",
      "|  49|   12|2019|  37267985|      100000.0|\n",
      "|  50|   12|2019|  37267985|      100000.0|\n",
      "|  34|    8|2020|  37267985|      100000.0|\n",
      "|  15|    4|2020|  37267985|      100000.0|\n",
      "|  19|    5|2020|  37267985|      100000.0|\n",
      "|  29|    7|2020|  37267985|      100000.0|\n",
      "+----+-----+----+----------+--------------+\n",
      "\n"
     ]
    }
   ],
   "source": [
    "week_pricing.show()"
   ]
  },
  {
   "cell_type": "code",
   "execution_count": 12,
   "metadata": {
    "jupyter": {
     "source_hidden": true
    }
   },
   "outputs": [],
   "source": [
    "week_pricing_df = week_pricing.toPandas()"
   ]
  },
  {
   "cell_type": "code",
   "execution_count": null,
   "metadata": {
    "jupyter": {
     "source_hidden": true
    }
   },
   "outputs": [],
   "source": [
    "#plot histogram of weekly rates\n",
    "color = 'red'\n",
    "fig, ax = plt.subplots(figsize=(21,12))\n",
    "max_val = max(week_pricing_df['week_avg_price'])\n",
    "\n",
    "items, bins, patches = ax.hist(week_pricing_df['week_avg_price'], bins = range(0,max_val+1,10), color = color, alpha=0.7, edgecolor='black', linewidth=1.2)\n",
    "plt.xticks(range(0,max_val+1,10), size=20)\n",
    "plt.yticks(size = 20)\n",
    "plt.xlabel('Prices', size=25, color=color, weight='bold')\n",
    "plt.ylabel('Number of Listings', size=25, color=color, weight='bold')\n",
    "plt.title('Number of Listings/n Based on Price', fontsize=30, color=color, weight='bold')\n",
    "\n",
    "autolabel(patches)\n",
    "\n",
    "plt.show()"
   ]
  },
  {
   "cell_type": "markdown",
   "metadata": {},
   "source": [
    "## 1.1 Cal - Avg Monthly Rate (DONE)"
   ]
  },
  {
   "cell_type": "code",
   "execution_count": 14,
   "metadata": {
    "jupyter": {
     "source_hidden": true
    }
   },
   "outputs": [],
   "source": [
    "query = '''SELECT DISTINCT month,year,listing_id, SUM(price)/30 as month_avg_price\n",
    "            FROM paris_calendar\n",
    "            GROUP BY year,month,listing_id\n",
    "            ORDER BY year,month ASC'''\n",
    "\n",
    "monthly_pricing = spark.sql(query)"
   ]
  },
  {
   "cell_type": "code",
   "execution_count": 15,
   "metadata": {
    "jupyter": {
     "source_hidden": true
    }
   },
   "outputs": [],
   "source": [
    "monthly_pricing_df = monthly_pricing.toPandas()"
   ]
  },
  {
   "cell_type": "code",
   "execution_count": 50,
   "metadata": {
    "collapsed": true,
    "jupyter": {
     "outputs_hidden": true,
     "source_hidden": true
    }
   },
   "outputs": [
    {
     "data": {
      "image/png": "[encoded data removed]",
      "text/plain": [
       "<Figure size 1512x720 with 1 Axes>"
      ]
     },
     "metadata": {},
     "output_type": "display_data"
    }
   ],
   "source": [
    "#plot histogram of weekly rates\n",
    "color = 'red'\n",
    "fig, ax = plt.subplots(figsize=(21,10))\n",
    "max_val = int(max(monthly_pricing_df['month_avg_price']))\n",
    "\n",
    "left, bottom, width, height = [0.55, 0.6, 0.2, 0.2]\n",
    "# ax2 = fig.add_axes([left, bottom, width, height])\n",
    "\n",
    "items, bins, patches = ax.hist(monthly_pricing_df['month_avg_price'], bins = np.linspace(0, 2700,10), color = color, alpha=0.7, edgecolor='black', linewidth=1.2)\n",
    "plt.xticks(np.linspace(0,2700,10), size=20)\n",
    "plt.yticks(size = 20)\n",
    "plt.xlabel('Prices', size=25, color=color, weight='bold')\n",
    "plt.ylabel('Number of Listings', size=25, color=color, weight='bold')\n",
    "plt.title('Number of Listings Based on Price', fontsize=30, color=color, weight='bold')\n",
    "autolabel(patches)\n",
    "\n",
    "# items, bins, patches = ax2.hist(monthly_pricing_df['month_avg_price'], bins = np.linspace(0, 300,10), color = color, alpha=0.7, edgecolor='black', linewidth=1.2)\n",
    "# plt.xticks(np.linspace(0,300,10), size=20)\n",
    "# plt.yticks(size = 20)\n",
    "# # autolabel(patches)\n",
    "\n",
    "\n",
    "plt.show()"
   ]
  },
  {
   "cell_type": "markdown",
   "metadata": {},
   "source": [
    "## 1.2 CAL - INNER Avg Monthly Rate (DONE)"
   ]
  },
  {
   "cell_type": "code",
   "execution_count": 46,
   "metadata": {
    "collapsed": true,
    "jupyter": {
     "outputs_hidden": true,
     "source_hidden": true
    }
   },
   "outputs": [
    {
     "data": {
      "image/png": "[encoded data removed]",
      "text/plain": [
       "<Figure size 1512x720 with 1 Axes>"
      ]
     },
     "metadata": {},
     "output_type": "display_data"
    }
   ],
   "source": [
    "#DONE\n",
    "#plot histogram of weekly rates\n",
    "color = 'red'\n",
    "fig, ax = plt.subplots(figsize=(21,10))\n",
    "max_val = int(max(monthly_pricing_df['month_avg_price']))\n",
    "\n",
    "items, bins, patches = ax.hist(monthly_pricing_df['month_avg_price'], bins = np.linspace(0, 300,10), color = color, alpha=0.7, edgecolor='black', linewidth=1.2)\n",
    "plt.xticks(np.linspace(0,300,10), size=20)\n",
    "plt.yticks(size = 20)\n",
    "plt.xlabel('Prices', size=25, color=color, weight='bold')\n",
    "plt.ylabel('Number of Listings', size=25, color=color, weight='bold')\n",
    "plt.title('Number of Listings Based on Price', fontsize=30, color=color, weight='bold')\n",
    "\n",
    "autolabel(patches)\n",
    "\n",
    "plt.show()"
   ]
  },
  {
   "cell_type": "markdown",
   "metadata": {},
   "source": [
    "### 2.1 Cal - count of listings per week (SKIP)"
   ]
  },
  {
   "cell_type": "code",
   "execution_count": 52,
   "metadata": {
    "jupyter": {
     "source_hidden": true
    }
   },
   "outputs": [],
   "source": [
    "#Cal - count of listings per week\n",
    "query = '''SELECT DISTINCT week,month,year, COUNT(listing_id) as number_of_listings\n",
    "            FROM paris_calendar\n",
    "            WHERE year = 2020\n",
    "            GROUP BY year, month, week\n",
    "            ORDER BY year, month, week ASC'''\n",
    "\n",
    "listing_counts_per_week = spark.sql(query).toPandas()"
   ]
  },
  {
   "cell_type": "code",
   "execution_count": 53,
   "metadata": {
    "jupyter": {
     "source_hidden": true
    }
   },
   "outputs": [],
   "source": [
    "listing_counts_per_week = listing_counts_per_week.iloc[:64,:]"
   ]
  },
  {
   "cell_type": "code",
   "execution_count": 54,
   "metadata": {
    "collapsed": true,
    "jupyter": {
     "outputs_hidden": true,
     "source_hidden": true
    }
   },
   "outputs": [
    {
     "data": {
      "text/plain": [
       "32512"
      ]
     },
     "execution_count": 54,
     "metadata": {},
     "output_type": "execute_result"
    }
   ],
   "source": [
    "import os\n",
    "os.system('say \"shits done\"')"
   ]
  },
  {
   "cell_type": "code",
   "execution_count": 239,
   "metadata": {
    "collapsed": true,
    "jupyter": {
     "outputs_hidden": true,
     "source_hidden": true
    }
   },
   "outputs": [
    {
     "data": {
      "text/plain": [
       "458444"
      ]
     },
     "execution_count": 239,
     "metadata": {},
     "output_type": "execute_result"
    }
   ],
   "source": [
    "max(listing_counts_per_week['number_of_listings'])"
   ]
  },
  {
   "cell_type": "code",
   "execution_count": 51,
   "metadata": {
    "collapsed": true,
    "jupyter": {
     "outputs_hidden": true,
     "source_hidden": true
    }
   },
   "outputs": [
    {
     "ename": "NameError",
     "evalue": "name 'listing_counts_per_week' is not defined",
     "output_type": "error",
     "traceback": [
      "\u001b[0;31m---------------------------------------------------------------------------\u001b[0m",
      "\u001b[0;31mNameError\u001b[0m                                 Traceback (most recent call last)",
      "\u001b[0;32m<ipython-input-51-37428f9f5485>\u001b[0m in \u001b[0;36m<module>\u001b[0;34m\u001b[0m\n\u001b[1;32m      1\u001b[0m \u001b[0mlist_keys\u001b[0m \u001b[0;34m=\u001b[0m \u001b[0mrange\u001b[0m\u001b[0;34m(\u001b[0m\u001b[0;36m64\u001b[0m\u001b[0;34m)\u001b[0m\u001b[0;34m\u001b[0m\u001b[0;34m\u001b[0m\u001b[0m\n\u001b[0;32m----> 2\u001b[0;31m \u001b[0mlist_values\u001b[0m \u001b[0;34m=\u001b[0m \u001b[0;34m[\u001b[0m\u001b[0mv\u001b[0m \u001b[0;32mfor\u001b[0m \u001b[0mv\u001b[0m \u001b[0;32min\u001b[0m \u001b[0mlisting_counts_per_week\u001b[0m\u001b[0;34m[\u001b[0m\u001b[0;34m'number_of_listings'\u001b[0m\u001b[0;34m]\u001b[0m\u001b[0;34m]\u001b[0m\u001b[0;34m\u001b[0m\u001b[0;34m\u001b[0m\u001b[0m\n\u001b[0m\u001b[1;32m      3\u001b[0m \u001b[0mlabels\u001b[0m \u001b[0;34m=\u001b[0m \u001b[0;34m[\u001b[0m\u001b[0;34m'Nov 19'\u001b[0m\u001b[0;34m,\u001b[0m\u001b[0;34m'Dec 19'\u001b[0m\u001b[0;34m,\u001b[0m \u001b[0;34m'Jan 20'\u001b[0m\u001b[0;34m,\u001b[0m\u001b[0;34m'Feb 20'\u001b[0m\u001b[0;34m,\u001b[0m\u001b[0;34m'Mar 20'\u001b[0m\u001b[0;34m,\u001b[0m\u001b[0;34m'Apr 20'\u001b[0m\u001b[0;34m,\u001b[0m\u001b[0;34m'May 20'\u001b[0m\u001b[0;34m,\u001b[0m\u001b[0;34m'Jun 20'\u001b[0m\u001b[0;34m,\u001b[0m\u001b[0;34m'July 20'\u001b[0m\u001b[0;34m,\u001b[0m\u001b[0;34m'Aug 20'\u001b[0m\u001b[0;34m,\u001b[0m\u001b[0;34m'Sept 20'\u001b[0m\u001b[0;34m,\u001b[0m\u001b[0;34m'Oct 20'\u001b[0m\u001b[0;34m,\u001b[0m \u001b[0;34m'Nov 20'\u001b[0m\u001b[0;34m]\u001b[0m\u001b[0;34m\u001b[0m\u001b[0;34m\u001b[0m\u001b[0m\n\u001b[1;32m      4\u001b[0m \u001b[0;34m\u001b[0m\u001b[0m\n\u001b[1;32m      5\u001b[0m \u001b[0mcolor\u001b[0m \u001b[0;34m=\u001b[0m \u001b[0;34m'purple'\u001b[0m\u001b[0;34m\u001b[0m\u001b[0;34m\u001b[0m\u001b[0m\n",
      "\u001b[0;31mNameError\u001b[0m: name 'listing_counts_per_week' is not defined"
     ]
    }
   ],
   "source": [
    "list_keys = range(64)\n",
    "list_values = [v for v in listing_counts_per_week['number_of_listings']]\n",
    "labels = ['Nov 19','Dec 19', 'Jan 20','Feb 20','Mar 20','Apr 20','May 20','Jun 20','July 20','Aug 20','Sept 20','Oct 20', 'Nov 20']\n",
    "\n",
    "color = 'purple'\n",
    "fig, ax = plt.subplots(figsize=(21,10))\n",
    "ax.plot(list_keys, list_values, color = color, linewidth=5)\n",
    "ax.locator_params(axis='x', tight=True, nbins=13)\n",
    "ax.margins(x=0)\n",
    "locs, label = plt.xticks(size = 20, rotation=45)\n",
    "plt.xticks(locs, labels)\n",
    "plt.yticks(size = 20)\n",
    "plt.ylim(0, 500000)\n",
    "plt.xlabel('Week', size=25, color=color, weight='bold')\n",
    "plt.ylabel('Number of Listings', size=25, color=color, weight='bold')\n",
    "plt.title('Number of Listings\\n  per Week', fontsize=30, color=color, weight='bold')\n",
    "\n"
   ]
  },
  {
   "cell_type": "markdown",
   "metadata": {},
   "source": [
    "### 2.2 Cal - count of listings per month (DONE)"
   ]
  },
  {
   "cell_type": "code",
   "execution_count": 245,
   "metadata": {},
   "outputs": [],
   "source": [
    "#Cal - count of listings per month\n",
    "query = '''SELECT DISTINCT month,year, COUNT(listing_id) as number_of_listings\n",
    "            FROM paris_calendar\n",
    "            GROUP BY year, month\n",
    "            ORDER BY year, month ASC'''\n",
    "\n",
    "listing_counts_per_month = spark.sql(query).toPandas()"
   ]
  },
  {
   "cell_type": "code",
   "execution_count": 246,
   "metadata": {},
   "outputs": [],
   "source": [
    "listing_counts_per_month['number_of_listings'][12] += listing_counts_per_month['number_of_listings'][0]"
   ]
  },
  {
   "cell_type": "code",
   "execution_count": 247,
   "metadata": {},
   "outputs": [],
   "source": [
    "listing_counts_per_month.drop(0, inplace=True)"
   ]
  },
  {
   "cell_type": "code",
   "execution_count": 249,
   "metadata": {
    "collapsed": true,
    "jupyter": {
     "outputs_hidden": true
    }
   },
   "outputs": [
    {
     "data": {
      "text/plain": [
       "Text(0.5, 1.0, 'Number of Listings\\n  per Month')"
      ]
     },
     "execution_count": 249,
     "metadata": {},
     "output_type": "execute_result"
    },
    {
     "data": {
      "image/png": "[encoded data removed]",
      "text/plain": [
       "<Figure size 1080x720 with 1 Axes>"
      ]
     },
     "metadata": {},
     "output_type": "display_data"
    }
   ],
   "source": [
    "list_keys = ['Dec 19', 'Jan 20','Feb 20','Mar 20','Apr 20','May 20','Jun 20','July 20','Aug 20','Sept 20','Oct 20', 'Nov 20']\n",
    "list_values = [v for v in listing_counts_per_month['number_of_listings']]\n",
    "\n",
    "\n",
    "color = 'purple'\n",
    "fig, ax = plt.subplots(figsize=(15,10))\n",
    "ax.plot(list_keys, list_values, color = color, marker='o', linewidth=5, markersize=5)\n",
    "ax.margins(x=0)\n",
    "plt.xticks(size = 20, rotation=45)\n",
    "plt.yticks(size = 20)\n",
    "plt.ylim(1700000, 2100000)\n",
    "plt.xlabel('Month', size=25, color=color, weight='bold')\n",
    "plt.ylabel('Number of Listings', size=25, color=color, weight='bold')\n",
    "plt.title('Number of Listings\\n  per Month', fontsize=30, color=color, weight='bold')\n",
    "\n"
   ]
  },
  {
   "cell_type": "markdown",
   "metadata": {},
   "source": [
    "### 3.1 Cal - Price per week"
   ]
  },
  {
   "cell_type": "code",
   "execution_count": null,
   "metadata": {},
   "outputs": [],
   "source": []
  },
  {
   "cell_type": "markdown",
   "metadata": {},
   "source": [
    "### 3.2 Cal - Price per month"
   ]
  },
  {
   "cell_type": "code",
   "execution_count": null,
   "metadata": {},
   "outputs": [],
   "source": []
  },
  {
   "cell_type": "code",
   "execution_count": null,
   "metadata": {},
   "outputs": [],
   "source": []
  },
  {
   "cell_type": "code",
   "execution_count": null,
   "metadata": {},
   "outputs": [],
   "source": []
  },
  {
   "cell_type": "code",
   "execution_count": null,
   "metadata": {},
   "outputs": [],
   "source": []
  },
  {
   "cell_type": "markdown",
   "metadata": {},
   "source": [
    "### 3. Cal - Plot price timeline of prices"
   ]
  },
  {
   "cell_type": "code",
   "execution_count": null,
   "metadata": {},
   "outputs": [],
   "source": []
  },
  {
   "cell_type": "code",
   "execution_count": null,
   "metadata": {},
   "outputs": [],
   "source": []
  },
  {
   "cell_type": "code",
   "execution_count": null,
   "metadata": {},
   "outputs": [],
   "source": []
  },
  {
   "cell_type": "code",
   "execution_count": null,
   "metadata": {},
   "outputs": [],
   "source": []
  },
  {
   "cell_type": "code",
   "execution_count": null,
   "metadata": {},
   "outputs": [],
   "source": []
  },
  {
   "cell_type": "markdown",
   "metadata": {},
   "source": [
    "### 4. Cal - Plot heat map of avg prices per month of each listing"
   ]
  },
  {
   "cell_type": "code",
   "execution_count": null,
   "metadata": {},
   "outputs": [],
   "source": []
  },
  {
   "cell_type": "markdown",
   "metadata": {},
   "source": [
    "### 5. Cal - Model to determine/predict price of listings"
   ]
  },
  {
   "cell_type": "markdown",
   "metadata": {},
   "source": [
    "## Listings SPARK"
   ]
  },
  {
   "cell_type": "code",
   "execution_count": null,
   "metadata": {},
   "outputs": [],
   "source": [
    "paris_listings_df = spark.read.csv(paris+'updated_reviews.csv',\n",
    "                            header = True,\n",
    "                            sep = \",\",\n",
    "                            inferSchema = True)\n",
    "\n",
    "paris_listings_df.createOrReplaceTempView('paris_listings_df')"
   ]
  },
  {
   "cell_type": "markdown",
   "metadata": {},
   "source": [
    "## 1. Top 10 types of languages"
   ]
  },
  {
   "cell_type": "code",
   "execution_count": 37,
   "metadata": {},
   "outputs": [],
   "source": [
    "query = '''SELECT DISTINCT(language), COUNT(language) as count\n",
    "            FROM paris_listings\n",
    "            GROUP BY language '''\n",
    "\n",
    "language_count_df = spark.sql(query).toPandas()"
   ]
  },
  {
   "cell_type": "markdown",
   "metadata": {},
   "source": [
    "## 2. Percentage on Language Renters Speak"
   ]
  },
  {
   "cell_type": "code",
   "execution_count": null,
   "metadata": {},
   "outputs": [],
   "source": []
  },
  {
   "cell_type": "code",
   "execution_count": 26,
   "metadata": {},
   "outputs": [],
   "source": [
    "# 1.0 Get only english\n",
    "query = '''SELECT \n",
    "            FROM paris_listings\n",
    "            WHERE language = \"English\"'''\n",
    "\n",
    "english_only = spark.sql(query)"
   ]
  },
  {
   "cell_type": "code",
   "execution_count": 58,
   "metadata": {},
   "outputs": [],
   "source": [
    "test = pd.read_csv('Data/Paris/updated_listings.csv')"
   ]
  },
  {
   "cell_type": "code",
   "execution_count": null,
   "metadata": {},
   "outputs": [],
   "source": []
  },
  {
   "cell_type": "markdown",
   "metadata": {},
   "source": [
    "## 3. Histogram on listings per host"
   ]
  },
  {
   "cell_type": "code",
   "execution_count": null,
   "metadata": {},
   "outputs": [],
   "source": []
  },
  {
   "cell_type": "code",
   "execution_count": null,
   "metadata": {},
   "outputs": [],
   "source": []
  },
  {
   "cell_type": "markdown",
   "metadata": {},
   "source": [
    "## 4. "
   ]
  },
  {
   "cell_type": "code",
   "execution_count": null,
   "metadata": {},
   "outputs": [],
   "source": []
  },
  {
   "cell_type": "code",
   "execution_count": null,
   "metadata": {},
   "outputs": [],
   "source": []
  },
  {
   "cell_type": "markdown",
   "metadata": {},
   "source": [
    "## 5. Time series on calendar pricing"
   ]
  },
  {
   "cell_type": "code",
   "execution_count": null,
   "metadata": {},
   "outputs": [],
   "source": []
  },
  {
   "cell_type": "code",
   "execution_count": null,
   "metadata": {},
   "outputs": [],
   "source": []
  },
  {
   "cell_type": "markdown",
   "metadata": {},
   "source": [
    "## 6. Time series heat map on prices over time (weekly/monthly)"
   ]
  },
  {
   "cell_type": "code",
   "execution_count": null,
   "metadata": {},
   "outputs": [],
   "source": [
    "#First. query avg price based off bi-weekly?"
   ]
  },
  {
   "cell_type": "code",
   "execution_count": null,
   "metadata": {},
   "outputs": [],
   "source": []
  },
  {
   "cell_type": "markdown",
   "metadata": {},
   "source": [
    "## Modeling"
   ]
  },
  {
   "cell_type": "code",
   "execution_count": 267,
   "metadata": {},
   "outputs": [],
   "source": [
    "#from class:\n",
    "def calculate_threshold_values(prob, y):\n",
    "    '''\n",
    "    Build dataframe of the various confusion-matrix ratios by threshold\n",
    "    from a list of predicted probabilities and actual y values\n",
    "    '''\n",
    "    df = pd.DataFrame({'prob': prob, 'y': y})\n",
    "    df.sort_values('prob', inplace=True)\n",
    "    \n",
    "    actual_p = df.y.sum()\n",
    "    actual_n = df.shape[0] - df.y.sum()\n",
    "\n",
    "    df['tn'] = (df.y == 0).cumsum()\n",
    "    df['fn'] = df.y.cumsum()\n",
    "    df['fp'] = actual_n - df.tn\n",
    "    df['tp'] = actual_p - df.fn\n",
    "\n",
    "    df['fpr'] = df.fp/(df.fp + df.tn)\n",
    "    df['tpr'] = df.tp/(df.tp + df.fn)\n",
    "    df['precision'] = df.tp/(df.tp + df.fp)\n",
    "    df = df.res\n",
    "    \n",
    "def plot_roc(ax, df):\n",
    "    ax.plot([1]+list(df.fpr), [1]+list(df.tpr), label=\"ROC\")\n",
    "    ax.plot([0,1],[0,1], 'k', label=\"random\")\n",
    "    ax.set_xlabel('fpr')\n",
    "    ax.set_ylabel('tpr')\n",
    "    ax.set_title('ROC Curve')\n",
    "    ax.legend()\n",
    "    "
   ]
  },
  {
   "cell_type": "code",
   "execution_count": 287,
   "metadata": {},
   "outputs": [],
   "source": [
    "# def modelling(text_series, y, vectorizer, model):\n",
    "    \n",
    "#     X = vectorizer.fit_transform(text_series)\n",
    "    \n",
    "#     if model.__class__.__name__ == \"GaussianNB\":\n",
    "#         X = X.toarray()\n",
    "        \n",
    "#     X_train, X_test, y_train, y_test = train_test_split(X, y)\n",
    "#     model.fit(X_train, y_train)\n",
    "#     y_pred = model.predict(X_test)\n",
    "    \n",
    "#     precision = precision_score(y_test, y_pred)\n",
    "#     recall = recall_score(y_test, y_pred)\n",
    "#     accuracy = accuracy_score(y_test, y_pred)\n",
    "    \n",
    "#     probs = model.predict_proba(X_test)[:,1]\n",
    "#     roc_auc = roc_auc_score(y_test, probs)\n",
    "#     thresh_df =calculate_threshold_values(probs, y_test)\n",
    "    \n",
    "#     return (precision, recall, accuracy, probs, roc_auc, thres_df)"
   ]
  },
  {
   "cell_type": "code",
   "execution_count": 318,
   "metadata": {},
   "outputs": [],
   "source": [
    "def modelling(X, y, model):\n",
    "    \n",
    "#     X = vectorizer.fit_transform(text_series)\n",
    "    \n",
    "#     if model.__class__.__name__ == \"GaussianNB\":\n",
    "#         X = X.toarray()\n",
    "        \n",
    "    X_train, X_test, y_train, y_test = train_test_split(X, y)\n",
    "    model.fit(X_train, y_train)\n",
    "    y_pred = model.predict(X_test)\n",
    "    \n",
    "    precision = precision_score(y_test, y_pred)\n",
    "    recall = recall_score(y_test, y_pred)\n",
    "    accuracy = accuracy_score(y_test, y_pred)\n",
    "    \n",
    "    probs = model.predict_proba(X_test)[:,1]\n",
    "#     roc_auc = roc_auc_score(y_test, probs)\n",
    "    thresh_df =calculate_threshold_values(probs, y_test)\n",
    "    \n",
    "    return (precision, recall, accuracy, probs, roc_auc, thresh_df)\n",
    "#     return (probs, thres_df, roc_auc)"
   ]
  },
  {
   "cell_type": "code",
   "execution_count": 329,
   "metadata": {},
   "outputs": [],
   "source": [
    "import scipy.stats as scs\n",
    "def generate_classes(nptses, mus, sds):\n",
    "    \"\"\"\n",
    "    Generate normally distributed points in multiple classes\n",
    "    Parameters\n",
    "    ----------\n",
    "    nptses : array_like (1-d)\n",
    "        sequence of numbers, the count of points in each class\n",
    "    mus : array_like (2-d)\n",
    "        sequence of vectors, the means of the multivariate distributions for each class\n",
    "    mus : array_like (3-d)\n",
    "        sequence of 2-d symmetric tensors, the standard deviation of the multivariate\n",
    "        distributions for each class\n",
    "        \n",
    "    Returns\n",
    "    -------\n",
    "    X : array (2-d)\n",
    "        features of generated points\n",
    "    y : array (2-d)\n",
    "        integer labels of points, starting at 0\n",
    "    \"\"\"\n",
    "\n",
    "    X = np.zeros((0,2))\n",
    "    y = np.zeros((0,))\n",
    "    \n",
    "    for i, npts, mu, sd in zip(itertools.count(), nptses, mus, sds):\n",
    "        X = np.concatenate([X, scs.multivariate_normal(mu, sd).rvs(npts)])\n",
    "        y = np.concatenate([y, np.ones(npts)*i])\n",
    "    return X, y"
   ]
  },
  {
   "cell_type": "code",
   "execution_count": 331,
   "metadata": {},
   "outputs": [
    {
     "data": {
      "text/plain": [
       "array([0., 0., 0., ..., 1., 1., 1.])"
      ]
     },
     "execution_count": 331,
     "metadata": {},
     "output_type": "execute_result"
    }
   ],
   "source": [
    "blaX, blay = generate_classes((1000,1000),\n",
    "                       ((2.0, 2.5),\n",
    "                        (6.0, 0.0)),\n",
    "                       (((2.0, 0),\n",
    "                         (0, 3.0)),\n",
    "                        ((2.5, 0),\n",
    "                         (0, 3.0)))\n",
    "                       )\n",
    "blaX\n",
    "blay"
   ]
  },
  {
   "cell_type": "code",
   "execution_count": 272,
   "metadata": {},
   "outputs": [],
   "source": [
    "#models\n",
    "logistic = LogisticRegression(C=1000, multiclass)\n",
    "gb = GradientBoostingClassifier()\n",
    "rf = RandomForestClassifier()\n",
    "dt = DecisionTreeClassifier()\n",
    "\n",
    "# GNB = GaussianNB()\n",
    "# MNB = MultinomialNB()\n",
    "# BNB = BernouliNB()"
   ]
  },
  {
   "cell_type": "code",
   "execution_count": 308,
   "metadata": {},
   "outputs": [],
   "source": [
    "X = pd.read_csv('Data/Paris/the_calendar_to_use.csv', nrows=25000)"
   ]
  },
  {
   "cell_type": "code",
   "execution_count": 309,
   "metadata": {},
   "outputs": [],
   "source": [
    "y = X['price']"
   ]
  },
  {
   "cell_type": "code",
   "execution_count": 310,
   "metadata": {},
   "outputs": [],
   "source": [
    "X.drop(columns=['price','Unnamed: 0', 'available', 'date', 'listing_id', 'minimum_nights','maximum_nights'], inplace=True)"
   ]
  },
  {
   "cell_type": "code",
   "execution_count": 311,
   "metadata": {},
   "outputs": [
    {
     "data": {
      "text/plain": [
       "Index(['week', 'month', 'year'], dtype='object')"
      ]
     },
     "execution_count": 311,
     "metadata": {},
     "output_type": "execute_result"
    }
   ],
   "source": [
    "X.columns"
   ]
  },
  {
   "cell_type": "code",
   "execution_count": 315,
   "metadata": {
    "collapsed": true,
    "jupyter": {
     "outputs_hidden": true
    }
   },
   "outputs": [
    {
     "ename": "KeyError",
     "evalue": "\"None of [Index(['week', 'month', 'year'], dtype='object')] are in the [columns]\"",
     "output_type": "error",
     "traceback": [
      "\u001b[0;31m---------------------------------------------------------------------------\u001b[0m",
      "\u001b[0;31mKeyError\u001b[0m                                  Traceback (most recent call last)",
      "\u001b[0;32m<ipython-input-315-ae78d39bdbaa>\u001b[0m in \u001b[0;36m<module>\u001b[0;34m\u001b[0m\n\u001b[0;32m----> 1\u001b[0;31m \u001b[0mX\u001b[0m \u001b[0;34m=\u001b[0m \u001b[0mpd\u001b[0m\u001b[0;34m.\u001b[0m\u001b[0mget_dummies\u001b[0m\u001b[0;34m(\u001b[0m\u001b[0mX\u001b[0m\u001b[0;34m,\u001b[0m \u001b[0mcolumns\u001b[0m\u001b[0;34m=\u001b[0m\u001b[0;34m[\u001b[0m\u001b[0;34m'week'\u001b[0m\u001b[0;34m,\u001b[0m\u001b[0;34m'month'\u001b[0m\u001b[0;34m,\u001b[0m\u001b[0;34m'year'\u001b[0m\u001b[0;34m]\u001b[0m\u001b[0;34m,\u001b[0m\u001b[0;34m)\u001b[0m\u001b[0;34m\u001b[0m\u001b[0;34m\u001b[0m\u001b[0m\n\u001b[0m",
      "\u001b[0;32m/opt/conda/lib/python3.7/site-packages/pandas/core/reshape/reshape.py\u001b[0m in \u001b[0;36mget_dummies\u001b[0;34m(data, prefix, prefix_sep, dummy_na, columns, sparse, drop_first, dtype)\u001b[0m\n\u001b[1;32m    870\u001b[0m             \u001b[0mdata_to_encode\u001b[0m \u001b[0;34m=\u001b[0m \u001b[0mdata\u001b[0m\u001b[0;34m.\u001b[0m\u001b[0mselect_dtypes\u001b[0m\u001b[0;34m(\u001b[0m\u001b[0minclude\u001b[0m\u001b[0;34m=\u001b[0m\u001b[0mdtypes_to_encode\u001b[0m\u001b[0;34m)\u001b[0m\u001b[0;34m\u001b[0m\u001b[0;34m\u001b[0m\u001b[0m\n\u001b[1;32m    871\u001b[0m         \u001b[0;32melse\u001b[0m\u001b[0;34m:\u001b[0m\u001b[0;34m\u001b[0m\u001b[0;34m\u001b[0m\u001b[0m\n\u001b[0;32m--> 872\u001b[0;31m             \u001b[0mdata_to_encode\u001b[0m \u001b[0;34m=\u001b[0m \u001b[0mdata\u001b[0m\u001b[0;34m[\u001b[0m\u001b[0mcolumns\u001b[0m\u001b[0;34m]\u001b[0m\u001b[0;34m\u001b[0m\u001b[0;34m\u001b[0m\u001b[0m\n\u001b[0m\u001b[1;32m    873\u001b[0m \u001b[0;34m\u001b[0m\u001b[0m\n\u001b[1;32m    874\u001b[0m         \u001b[0;31m# validate prefixes and separator to avoid silently dropping cols\u001b[0m\u001b[0;34m\u001b[0m\u001b[0;34m\u001b[0m\u001b[0;34m\u001b[0m\u001b[0m\n",
      "\u001b[0;32m/opt/conda/lib/python3.7/site-packages/pandas/core/frame.py\u001b[0m in \u001b[0;36m__getitem__\u001b[0;34m(self, key)\u001b[0m\n\u001b[1;32m   2999\u001b[0m             \u001b[0;32mif\u001b[0m \u001b[0mis_iterator\u001b[0m\u001b[0;34m(\u001b[0m\u001b[0mkey\u001b[0m\u001b[0;34m)\u001b[0m\u001b[0;34m:\u001b[0m\u001b[0;34m\u001b[0m\u001b[0;34m\u001b[0m\u001b[0m\n\u001b[1;32m   3000\u001b[0m                 \u001b[0mkey\u001b[0m \u001b[0;34m=\u001b[0m \u001b[0mlist\u001b[0m\u001b[0;34m(\u001b[0m\u001b[0mkey\u001b[0m\u001b[0;34m)\u001b[0m\u001b[0;34m\u001b[0m\u001b[0;34m\u001b[0m\u001b[0m\n\u001b[0;32m-> 3001\u001b[0;31m             \u001b[0mindexer\u001b[0m \u001b[0;34m=\u001b[0m \u001b[0mself\u001b[0m\u001b[0;34m.\u001b[0m\u001b[0mloc\u001b[0m\u001b[0;34m.\u001b[0m\u001b[0m_convert_to_indexer\u001b[0m\u001b[0;34m(\u001b[0m\u001b[0mkey\u001b[0m\u001b[0;34m,\u001b[0m \u001b[0maxis\u001b[0m\u001b[0;34m=\u001b[0m\u001b[0;36m1\u001b[0m\u001b[0;34m,\u001b[0m \u001b[0mraise_missing\u001b[0m\u001b[0;34m=\u001b[0m\u001b[0;32mTrue\u001b[0m\u001b[0;34m)\u001b[0m\u001b[0;34m\u001b[0m\u001b[0;34m\u001b[0m\u001b[0m\n\u001b[0m\u001b[1;32m   3002\u001b[0m \u001b[0;34m\u001b[0m\u001b[0m\n\u001b[1;32m   3003\u001b[0m         \u001b[0;31m# take() does not accept boolean indexers\u001b[0m\u001b[0;34m\u001b[0m\u001b[0;34m\u001b[0m\u001b[0;34m\u001b[0m\u001b[0m\n",
      "\u001b[0;32m/opt/conda/lib/python3.7/site-packages/pandas/core/indexing.py\u001b[0m in \u001b[0;36m_convert_to_indexer\u001b[0;34m(self, obj, axis, is_setter, raise_missing)\u001b[0m\n\u001b[1;32m   1283\u001b[0m                 \u001b[0;31m# When setting, missing keys are not allowed, even with .loc:\u001b[0m\u001b[0;34m\u001b[0m\u001b[0;34m\u001b[0m\u001b[0;34m\u001b[0m\u001b[0m\n\u001b[1;32m   1284\u001b[0m                 \u001b[0mkwargs\u001b[0m \u001b[0;34m=\u001b[0m \u001b[0;34m{\u001b[0m\u001b[0;34m\"raise_missing\"\u001b[0m\u001b[0;34m:\u001b[0m \u001b[0;32mTrue\u001b[0m \u001b[0;32mif\u001b[0m \u001b[0mis_setter\u001b[0m \u001b[0;32melse\u001b[0m \u001b[0mraise_missing\u001b[0m\u001b[0;34m}\u001b[0m\u001b[0;34m\u001b[0m\u001b[0;34m\u001b[0m\u001b[0m\n\u001b[0;32m-> 1285\u001b[0;31m                 \u001b[0;32mreturn\u001b[0m \u001b[0mself\u001b[0m\u001b[0;34m.\u001b[0m\u001b[0m_get_listlike_indexer\u001b[0m\u001b[0;34m(\u001b[0m\u001b[0mobj\u001b[0m\u001b[0;34m,\u001b[0m \u001b[0maxis\u001b[0m\u001b[0;34m,\u001b[0m \u001b[0;34m**\u001b[0m\u001b[0mkwargs\u001b[0m\u001b[0;34m)\u001b[0m\u001b[0;34m[\u001b[0m\u001b[0;36m1\u001b[0m\u001b[0;34m]\u001b[0m\u001b[0;34m\u001b[0m\u001b[0;34m\u001b[0m\u001b[0m\n\u001b[0m\u001b[1;32m   1286\u001b[0m         \u001b[0;32melse\u001b[0m\u001b[0;34m:\u001b[0m\u001b[0;34m\u001b[0m\u001b[0;34m\u001b[0m\u001b[0m\n\u001b[1;32m   1287\u001b[0m             \u001b[0;32mtry\u001b[0m\u001b[0;34m:\u001b[0m\u001b[0;34m\u001b[0m\u001b[0;34m\u001b[0m\u001b[0m\n",
      "\u001b[0;32m/opt/conda/lib/python3.7/site-packages/pandas/core/indexing.py\u001b[0m in \u001b[0;36m_get_listlike_indexer\u001b[0;34m(self, key, axis, raise_missing)\u001b[0m\n\u001b[1;32m   1090\u001b[0m \u001b[0;34m\u001b[0m\u001b[0m\n\u001b[1;32m   1091\u001b[0m         self._validate_read_indexer(\n\u001b[0;32m-> 1092\u001b[0;31m             \u001b[0mkeyarr\u001b[0m\u001b[0;34m,\u001b[0m \u001b[0mindexer\u001b[0m\u001b[0;34m,\u001b[0m \u001b[0mo\u001b[0m\u001b[0;34m.\u001b[0m\u001b[0m_get_axis_number\u001b[0m\u001b[0;34m(\u001b[0m\u001b[0maxis\u001b[0m\u001b[0;34m)\u001b[0m\u001b[0;34m,\u001b[0m \u001b[0mraise_missing\u001b[0m\u001b[0;34m=\u001b[0m\u001b[0mraise_missing\u001b[0m\u001b[0;34m\u001b[0m\u001b[0;34m\u001b[0m\u001b[0m\n\u001b[0m\u001b[1;32m   1093\u001b[0m         )\n\u001b[1;32m   1094\u001b[0m         \u001b[0;32mreturn\u001b[0m \u001b[0mkeyarr\u001b[0m\u001b[0;34m,\u001b[0m \u001b[0mindexer\u001b[0m\u001b[0;34m\u001b[0m\u001b[0;34m\u001b[0m\u001b[0m\n",
      "\u001b[0;32m/opt/conda/lib/python3.7/site-packages/pandas/core/indexing.py\u001b[0m in \u001b[0;36m_validate_read_indexer\u001b[0;34m(self, key, indexer, axis, raise_missing)\u001b[0m\n\u001b[1;32m   1175\u001b[0m                 raise KeyError(\n\u001b[1;32m   1176\u001b[0m                     \"None of [{key}] are in the [{axis}]\".format(\n\u001b[0;32m-> 1177\u001b[0;31m                         \u001b[0mkey\u001b[0m\u001b[0;34m=\u001b[0m\u001b[0mkey\u001b[0m\u001b[0;34m,\u001b[0m \u001b[0maxis\u001b[0m\u001b[0;34m=\u001b[0m\u001b[0mself\u001b[0m\u001b[0;34m.\u001b[0m\u001b[0mobj\u001b[0m\u001b[0;34m.\u001b[0m\u001b[0m_get_axis_name\u001b[0m\u001b[0;34m(\u001b[0m\u001b[0maxis\u001b[0m\u001b[0;34m)\u001b[0m\u001b[0;34m\u001b[0m\u001b[0;34m\u001b[0m\u001b[0m\n\u001b[0m\u001b[1;32m   1178\u001b[0m                     )\n\u001b[1;32m   1179\u001b[0m                 )\n",
      "\u001b[0;31mKeyError\u001b[0m: \"None of [Index(['week', 'month', 'year'], dtype='object')] are in the [columns]\""
     ]
    }
   ],
   "source": [
    "X = pd.get_dummies(X, columns=['week','month','year'],)"
   ]
  },
  {
   "cell_type": "code",
   "execution_count": 325,
   "metadata": {},
   "outputs": [
    {
     "data": {
      "text/html": [
       "<div>\n",
       "<style scoped>\n",
       "    .dataframe tbody tr th:only-of-type {\n",
       "        vertical-align: middle;\n",
       "    }\n",
       "\n",
       "    .dataframe tbody tr th {\n",
       "        vertical-align: top;\n",
       "    }\n",
       "\n",
       "    .dataframe thead th {\n",
       "        text-align: right;\n",
       "    }\n",
       "</style>\n",
       "<table border=\"1\" class=\"dataframe\">\n",
       "  <thead>\n",
       "    <tr style=\"text-align: right;\">\n",
       "      <th></th>\n",
       "      <th>week_1</th>\n",
       "      <th>week_2</th>\n",
       "      <th>week_3</th>\n",
       "      <th>week_4</th>\n",
       "      <th>week_5</th>\n",
       "      <th>week_6</th>\n",
       "      <th>week_7</th>\n",
       "      <th>week_8</th>\n",
       "      <th>week_9</th>\n",
       "      <th>week_10</th>\n",
       "      <th>...</th>\n",
       "      <th>month_5</th>\n",
       "      <th>month_6</th>\n",
       "      <th>month_7</th>\n",
       "      <th>month_8</th>\n",
       "      <th>month_9</th>\n",
       "      <th>month_10</th>\n",
       "      <th>month_11</th>\n",
       "      <th>month_12</th>\n",
       "      <th>year_2019</th>\n",
       "      <th>year_2020</th>\n",
       "    </tr>\n",
       "  </thead>\n",
       "  <tbody>\n",
       "    <tr>\n",
       "      <th>0</th>\n",
       "      <td>0</td>\n",
       "      <td>0</td>\n",
       "      <td>0</td>\n",
       "      <td>0</td>\n",
       "      <td>0</td>\n",
       "      <td>0</td>\n",
       "      <td>0</td>\n",
       "      <td>0</td>\n",
       "      <td>0</td>\n",
       "      <td>0</td>\n",
       "      <td>...</td>\n",
       "      <td>0</td>\n",
       "      <td>0</td>\n",
       "      <td>0</td>\n",
       "      <td>0</td>\n",
       "      <td>0</td>\n",
       "      <td>0</td>\n",
       "      <td>1</td>\n",
       "      <td>0</td>\n",
       "      <td>1</td>\n",
       "      <td>0</td>\n",
       "    </tr>\n",
       "    <tr>\n",
       "      <th>1</th>\n",
       "      <td>0</td>\n",
       "      <td>0</td>\n",
       "      <td>0</td>\n",
       "      <td>0</td>\n",
       "      <td>0</td>\n",
       "      <td>0</td>\n",
       "      <td>0</td>\n",
       "      <td>0</td>\n",
       "      <td>0</td>\n",
       "      <td>0</td>\n",
       "      <td>...</td>\n",
       "      <td>0</td>\n",
       "      <td>0</td>\n",
       "      <td>0</td>\n",
       "      <td>0</td>\n",
       "      <td>0</td>\n",
       "      <td>0</td>\n",
       "      <td>1</td>\n",
       "      <td>0</td>\n",
       "      <td>1</td>\n",
       "      <td>0</td>\n",
       "    </tr>\n",
       "    <tr>\n",
       "      <th>2</th>\n",
       "      <td>0</td>\n",
       "      <td>0</td>\n",
       "      <td>0</td>\n",
       "      <td>0</td>\n",
       "      <td>0</td>\n",
       "      <td>0</td>\n",
       "      <td>0</td>\n",
       "      <td>0</td>\n",
       "      <td>0</td>\n",
       "      <td>0</td>\n",
       "      <td>...</td>\n",
       "      <td>0</td>\n",
       "      <td>0</td>\n",
       "      <td>0</td>\n",
       "      <td>0</td>\n",
       "      <td>0</td>\n",
       "      <td>0</td>\n",
       "      <td>1</td>\n",
       "      <td>0</td>\n",
       "      <td>1</td>\n",
       "      <td>0</td>\n",
       "    </tr>\n",
       "    <tr>\n",
       "      <th>3</th>\n",
       "      <td>0</td>\n",
       "      <td>0</td>\n",
       "      <td>0</td>\n",
       "      <td>0</td>\n",
       "      <td>0</td>\n",
       "      <td>0</td>\n",
       "      <td>0</td>\n",
       "      <td>0</td>\n",
       "      <td>0</td>\n",
       "      <td>0</td>\n",
       "      <td>...</td>\n",
       "      <td>0</td>\n",
       "      <td>0</td>\n",
       "      <td>0</td>\n",
       "      <td>0</td>\n",
       "      <td>0</td>\n",
       "      <td>0</td>\n",
       "      <td>1</td>\n",
       "      <td>0</td>\n",
       "      <td>1</td>\n",
       "      <td>0</td>\n",
       "    </tr>\n",
       "    <tr>\n",
       "      <th>4</th>\n",
       "      <td>0</td>\n",
       "      <td>0</td>\n",
       "      <td>0</td>\n",
       "      <td>0</td>\n",
       "      <td>0</td>\n",
       "      <td>0</td>\n",
       "      <td>0</td>\n",
       "      <td>0</td>\n",
       "      <td>0</td>\n",
       "      <td>0</td>\n",
       "      <td>...</td>\n",
       "      <td>0</td>\n",
       "      <td>0</td>\n",
       "      <td>0</td>\n",
       "      <td>0</td>\n",
       "      <td>0</td>\n",
       "      <td>0</td>\n",
       "      <td>1</td>\n",
       "      <td>0</td>\n",
       "      <td>1</td>\n",
       "      <td>0</td>\n",
       "    </tr>\n",
       "    <tr>\n",
       "      <th>...</th>\n",
       "      <td>...</td>\n",
       "      <td>...</td>\n",
       "      <td>...</td>\n",
       "      <td>...</td>\n",
       "      <td>...</td>\n",
       "      <td>...</td>\n",
       "      <td>...</td>\n",
       "      <td>...</td>\n",
       "      <td>...</td>\n",
       "      <td>...</td>\n",
       "      <td>...</td>\n",
       "      <td>...</td>\n",
       "      <td>...</td>\n",
       "      <td>...</td>\n",
       "      <td>...</td>\n",
       "      <td>...</td>\n",
       "      <td>...</td>\n",
       "      <td>...</td>\n",
       "      <td>...</td>\n",
       "      <td>...</td>\n",
       "      <td>...</td>\n",
       "    </tr>\n",
       "    <tr>\n",
       "      <th>24995</th>\n",
       "      <td>0</td>\n",
       "      <td>0</td>\n",
       "      <td>0</td>\n",
       "      <td>0</td>\n",
       "      <td>0</td>\n",
       "      <td>0</td>\n",
       "      <td>0</td>\n",
       "      <td>0</td>\n",
       "      <td>0</td>\n",
       "      <td>0</td>\n",
       "      <td>...</td>\n",
       "      <td>0</td>\n",
       "      <td>0</td>\n",
       "      <td>0</td>\n",
       "      <td>0</td>\n",
       "      <td>0</td>\n",
       "      <td>0</td>\n",
       "      <td>0</td>\n",
       "      <td>0</td>\n",
       "      <td>0</td>\n",
       "      <td>1</td>\n",
       "    </tr>\n",
       "    <tr>\n",
       "      <th>24996</th>\n",
       "      <td>0</td>\n",
       "      <td>0</td>\n",
       "      <td>0</td>\n",
       "      <td>0</td>\n",
       "      <td>0</td>\n",
       "      <td>0</td>\n",
       "      <td>0</td>\n",
       "      <td>0</td>\n",
       "      <td>0</td>\n",
       "      <td>0</td>\n",
       "      <td>...</td>\n",
       "      <td>0</td>\n",
       "      <td>0</td>\n",
       "      <td>0</td>\n",
       "      <td>0</td>\n",
       "      <td>0</td>\n",
       "      <td>0</td>\n",
       "      <td>0</td>\n",
       "      <td>0</td>\n",
       "      <td>0</td>\n",
       "      <td>1</td>\n",
       "    </tr>\n",
       "    <tr>\n",
       "      <th>24997</th>\n",
       "      <td>0</td>\n",
       "      <td>0</td>\n",
       "      <td>0</td>\n",
       "      <td>0</td>\n",
       "      <td>0</td>\n",
       "      <td>0</td>\n",
       "      <td>0</td>\n",
       "      <td>0</td>\n",
       "      <td>0</td>\n",
       "      <td>0</td>\n",
       "      <td>...</td>\n",
       "      <td>1</td>\n",
       "      <td>0</td>\n",
       "      <td>0</td>\n",
       "      <td>0</td>\n",
       "      <td>0</td>\n",
       "      <td>0</td>\n",
       "      <td>0</td>\n",
       "      <td>0</td>\n",
       "      <td>0</td>\n",
       "      <td>1</td>\n",
       "    </tr>\n",
       "    <tr>\n",
       "      <th>24998</th>\n",
       "      <td>0</td>\n",
       "      <td>0</td>\n",
       "      <td>0</td>\n",
       "      <td>0</td>\n",
       "      <td>0</td>\n",
       "      <td>0</td>\n",
       "      <td>0</td>\n",
       "      <td>0</td>\n",
       "      <td>0</td>\n",
       "      <td>0</td>\n",
       "      <td>...</td>\n",
       "      <td>1</td>\n",
       "      <td>0</td>\n",
       "      <td>0</td>\n",
       "      <td>0</td>\n",
       "      <td>0</td>\n",
       "      <td>0</td>\n",
       "      <td>0</td>\n",
       "      <td>0</td>\n",
       "      <td>0</td>\n",
       "      <td>1</td>\n",
       "    </tr>\n",
       "    <tr>\n",
       "      <th>24999</th>\n",
       "      <td>0</td>\n",
       "      <td>0</td>\n",
       "      <td>0</td>\n",
       "      <td>0</td>\n",
       "      <td>0</td>\n",
       "      <td>0</td>\n",
       "      <td>0</td>\n",
       "      <td>0</td>\n",
       "      <td>0</td>\n",
       "      <td>0</td>\n",
       "      <td>...</td>\n",
       "      <td>1</td>\n",
       "      <td>0</td>\n",
       "      <td>0</td>\n",
       "      <td>0</td>\n",
       "      <td>0</td>\n",
       "      <td>0</td>\n",
       "      <td>0</td>\n",
       "      <td>0</td>\n",
       "      <td>0</td>\n",
       "      <td>1</td>\n",
       "    </tr>\n",
       "  </tbody>\n",
       "</table>\n",
       "<p>25000 rows × 66 columns</p>\n",
       "</div>"
      ],
      "text/plain": [
       "       week_1  week_2  week_3  week_4  week_5  week_6  week_7  week_8  week_9  \\\n",
       "0           0       0       0       0       0       0       0       0       0   \n",
       "1           0       0       0       0       0       0       0       0       0   \n",
       "2           0       0       0       0       0       0       0       0       0   \n",
       "3           0       0       0       0       0       0       0       0       0   \n",
       "4           0       0       0       0       0       0       0       0       0   \n",
       "...       ...     ...     ...     ...     ...     ...     ...     ...     ...   \n",
       "24995       0       0       0       0       0       0       0       0       0   \n",
       "24996       0       0       0       0       0       0       0       0       0   \n",
       "24997       0       0       0       0       0       0       0       0       0   \n",
       "24998       0       0       0       0       0       0       0       0       0   \n",
       "24999       0       0       0       0       0       0       0       0       0   \n",
       "\n",
       "       week_10  ...  month_5  month_6  month_7  month_8  month_9  month_10  \\\n",
       "0            0  ...        0        0        0        0        0         0   \n",
       "1            0  ...        0        0        0        0        0         0   \n",
       "2            0  ...        0        0        0        0        0         0   \n",
       "3            0  ...        0        0        0        0        0         0   \n",
       "4            0  ...        0        0        0        0        0         0   \n",
       "...        ...  ...      ...      ...      ...      ...      ...       ...   \n",
       "24995        0  ...        0        0        0        0        0         0   \n",
       "24996        0  ...        0        0        0        0        0         0   \n",
       "24997        0  ...        1        0        0        0        0         0   \n",
       "24998        0  ...        1        0        0        0        0         0   \n",
       "24999        0  ...        1        0        0        0        0         0   \n",
       "\n",
       "       month_11  month_12  year_2019  year_2020  \n",
       "0             1         0          1          0  \n",
       "1             1         0          1          0  \n",
       "2             1         0          1          0  \n",
       "3             1         0          1          0  \n",
       "4             1         0          1          0  \n",
       "...         ...       ...        ...        ...  \n",
       "24995         0         0          0          1  \n",
       "24996         0         0          0          1  \n",
       "24997         0         0          0          1  \n",
       "24998         0         0          0          1  \n",
       "24999         0         0          0          1  \n",
       "\n",
       "[25000 rows x 66 columns]"
      ]
     },
     "execution_count": 325,
     "metadata": {},
     "output_type": "execute_result"
    }
   ],
   "source": [
    "X"
   ]
  },
  {
   "cell_type": "code",
   "execution_count": 320,
   "metadata": {},
   "outputs": [
    {
     "ename": "ValueError",
     "evalue": "multiclass format is not supported",
     "output_type": "error",
     "traceback": [
      "\u001b[0;31m---------------------------------------------------------------------------\u001b[0m",
      "\u001b[0;31mValueError\u001b[0m                                Traceback (most recent call last)",
      "\u001b[0;32m<ipython-input-320-22747049781d>\u001b[0m in \u001b[0;36m<module>\u001b[0;34m\u001b[0m\n\u001b[0;32m----> 1\u001b[0;31m \u001b[0mprobs\u001b[0m\u001b[0;34m,\u001b[0m \u001b[0mthres_df\u001b[0m\u001b[0;34m,\u001b[0m \u001b[0mroc_auc\u001b[0m \u001b[0;34m=\u001b[0m \u001b[0mmodelling\u001b[0m\u001b[0;34m(\u001b[0m\u001b[0mX\u001b[0m\u001b[0;34m,\u001b[0m\u001b[0my\u001b[0m\u001b[0;34m,\u001b[0m\u001b[0mgb\u001b[0m\u001b[0;34m)\u001b[0m\u001b[0;34m\u001b[0m\u001b[0;34m\u001b[0m\u001b[0m\n\u001b[0m",
      "\u001b[0;32m<ipython-input-318-fe2d0462fa09>\u001b[0m in \u001b[0;36mmodelling\u001b[0;34m(X, y, model)\u001b[0m\n\u001b[1;32m     15\u001b[0m \u001b[0;34m\u001b[0m\u001b[0m\n\u001b[1;32m     16\u001b[0m     \u001b[0mprobs\u001b[0m \u001b[0;34m=\u001b[0m \u001b[0mmodel\u001b[0m\u001b[0;34m.\u001b[0m\u001b[0mpredict_proba\u001b[0m\u001b[0;34m(\u001b[0m\u001b[0mX_test\u001b[0m\u001b[0;34m)\u001b[0m\u001b[0;34m[\u001b[0m\u001b[0;34m:\u001b[0m\u001b[0;34m,\u001b[0m\u001b[0;36m1\u001b[0m\u001b[0;34m]\u001b[0m\u001b[0;34m\u001b[0m\u001b[0;34m\u001b[0m\u001b[0m\n\u001b[0;32m---> 17\u001b[0;31m     \u001b[0mroc_auc\u001b[0m \u001b[0;34m=\u001b[0m \u001b[0mroc_auc_score\u001b[0m\u001b[0;34m(\u001b[0m\u001b[0my_test\u001b[0m\u001b[0;34m,\u001b[0m \u001b[0mprobs\u001b[0m\u001b[0;34m)\u001b[0m\u001b[0;34m\u001b[0m\u001b[0;34m\u001b[0m\u001b[0m\n\u001b[0m\u001b[1;32m     18\u001b[0m     \u001b[0mthresh_df\u001b[0m \u001b[0;34m=\u001b[0m\u001b[0mcalculate_threshold_values\u001b[0m\u001b[0;34m(\u001b[0m\u001b[0mprobs\u001b[0m\u001b[0;34m,\u001b[0m \u001b[0my_test\u001b[0m\u001b[0;34m)\u001b[0m\u001b[0;34m\u001b[0m\u001b[0;34m\u001b[0m\u001b[0m\n\u001b[1;32m     19\u001b[0m \u001b[0;34m\u001b[0m\u001b[0m\n",
      "\u001b[0;32m/opt/conda/lib/python3.7/site-packages/sklearn/metrics/ranking.py\u001b[0m in \u001b[0;36mroc_auc_score\u001b[0;34m(y_true, y_score, average, sample_weight, max_fpr)\u001b[0m\n\u001b[1;32m    353\u001b[0m     return _average_binary_score(\n\u001b[1;32m    354\u001b[0m         \u001b[0m_binary_roc_auc_score\u001b[0m\u001b[0;34m,\u001b[0m \u001b[0my_true\u001b[0m\u001b[0;34m,\u001b[0m \u001b[0my_score\u001b[0m\u001b[0;34m,\u001b[0m \u001b[0maverage\u001b[0m\u001b[0;34m,\u001b[0m\u001b[0;34m\u001b[0m\u001b[0;34m\u001b[0m\u001b[0m\n\u001b[0;32m--> 355\u001b[0;31m         sample_weight=sample_weight)\n\u001b[0m\u001b[1;32m    356\u001b[0m \u001b[0;34m\u001b[0m\u001b[0m\n\u001b[1;32m    357\u001b[0m \u001b[0;34m\u001b[0m\u001b[0m\n",
      "\u001b[0;32m/opt/conda/lib/python3.7/site-packages/sklearn/metrics/base.py\u001b[0m in \u001b[0;36m_average_binary_score\u001b[0;34m(binary_metric, y_true, y_score, average, sample_weight)\u001b[0m\n\u001b[1;32m     71\u001b[0m     \u001b[0my_type\u001b[0m \u001b[0;34m=\u001b[0m \u001b[0mtype_of_target\u001b[0m\u001b[0;34m(\u001b[0m\u001b[0my_true\u001b[0m\u001b[0;34m)\u001b[0m\u001b[0;34m\u001b[0m\u001b[0;34m\u001b[0m\u001b[0m\n\u001b[1;32m     72\u001b[0m     \u001b[0;32mif\u001b[0m \u001b[0my_type\u001b[0m \u001b[0;32mnot\u001b[0m \u001b[0;32min\u001b[0m \u001b[0;34m(\u001b[0m\u001b[0;34m\"binary\"\u001b[0m\u001b[0;34m,\u001b[0m \u001b[0;34m\"multilabel-indicator\"\u001b[0m\u001b[0;34m)\u001b[0m\u001b[0;34m:\u001b[0m\u001b[0;34m\u001b[0m\u001b[0;34m\u001b[0m\u001b[0m\n\u001b[0;32m---> 73\u001b[0;31m         \u001b[0;32mraise\u001b[0m \u001b[0mValueError\u001b[0m\u001b[0;34m(\u001b[0m\u001b[0;34m\"{0} format is not supported\"\u001b[0m\u001b[0;34m.\u001b[0m\u001b[0mformat\u001b[0m\u001b[0;34m(\u001b[0m\u001b[0my_type\u001b[0m\u001b[0;34m)\u001b[0m\u001b[0;34m)\u001b[0m\u001b[0;34m\u001b[0m\u001b[0;34m\u001b[0m\u001b[0m\n\u001b[0m\u001b[1;32m     74\u001b[0m \u001b[0;34m\u001b[0m\u001b[0m\n\u001b[1;32m     75\u001b[0m     \u001b[0;32mif\u001b[0m \u001b[0my_type\u001b[0m \u001b[0;34m==\u001b[0m \u001b[0;34m\"binary\"\u001b[0m\u001b[0;34m:\u001b[0m\u001b[0;34m\u001b[0m\u001b[0;34m\u001b[0m\u001b[0m\n",
      "\u001b[0;31mValueError\u001b[0m: multiclass format is not supported"
     ]
    }
   ],
   "source": [
    "probs, thres_df, roc_auc = modelling(X,y,gb)"
   ]
  },
  {
   "cell_type": "code",
   "execution_count": null,
   "metadata": {},
   "outputs": [],
   "source": [
    "fig, ax = subplots(figsize=(15,8))\n",
    "plot_roc(ax, roc_auc)"
   ]
  },
  {
   "cell_type": "code",
   "execution_count": null,
   "metadata": {},
   "outputs": [],
   "source": []
  }
 ],
 "metadata": {
  "kernelspec": {
   "display_name": "Python 3",
   "language": "python",
   "name": "python3"
  },
  "language_info": {
   "codemirror_mode": {
    "name": "ipython",
    "version": 3
   },
   "file_extension": ".py",
   "mimetype": "text/x-python",
   "name": "python",
   "nbconvert_exporter": "python",
   "pygments_lexer": "ipython3",
   "version": "3.7.3"
  }
 },
 "nbformat": 4,
 "nbformat_minor": 4
}
